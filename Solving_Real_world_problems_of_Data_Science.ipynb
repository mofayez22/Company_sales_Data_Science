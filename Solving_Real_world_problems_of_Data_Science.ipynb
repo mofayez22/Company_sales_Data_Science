{
  "nbformat": 4,
  "nbformat_minor": 0,
  "metadata": {
    "colab": {
      "provenance": [],
      "collapsed_sections": []
    },
    "kernelspec": {
      "name": "python3",
      "display_name": "Python 3"
    },
    "language_info": {
      "name": "python"
    }
  },
  "cells": [
    {
      "cell_type": "code",
      "execution_count": null,
      "metadata": {
        "colab": {
          "base_uri": "https://localhost:8080/"
        },
        "id": "a4WtRSD1MSZV",
        "outputId": "8e1f7b78-7eef-4bc7-81c8-00e39f9357c5"
      },
      "outputs": [
        {
          "output_type": "stream",
          "name": "stdout",
          "text": [
            "fatal: destination path 'Pandas-Data-Science-Tasks' already exists and is not an empty directory.\n"
          ]
        }
      ],
      "source": [
        "!git clone https://github.com/KeithGalli/Pandas-Data-Science-Tasks.git"
      ]
    },
    {
      "cell_type": "code",
      "source": [
        "import pandas as pd\n",
        "import numpy as np\n",
        "import glob # for merging files\n",
        "import os # for merging files\n"
      ],
      "metadata": {
        "id": "b1eRDTNEOemS"
      },
      "execution_count": null,
      "outputs": []
    },
    {
      "cell_type": "markdown",
      "source": [
        "## Merging the files of 12 months of data into one csv file"
      ],
      "metadata": {
        "id": "p8jfgscBRLbQ"
      }
    },
    {
      "cell_type": "code",
      "source": [
        "folder_path = \"/content/Pandas-Data-Science-Tasks/SalesAnalysis/Sales_Data\" # The folder containing the 12 csv files\n",
        "\n",
        "# Merging the files\n",
        "joined_files = os.path.join(folder_path, \"Sales_*.csv\")\n",
        "\n",
        "# Returning a list of the merged files\n",
        "joined_files_list = glob.glob(joined_files) # golb.glob returns the paths of all files satrting with (Sales_) in the given Folder path\n",
        "\n",
        "# Merging the files into a single file\n",
        "data = pd.concat(\n",
        "    map(pd.read_csv, # map function performs the function (in this case \"pd.read_csv\") of the list given after.\n",
        "        joined_files_list), \n",
        "        ignore_index= True) "
      ],
      "metadata": {
        "id": "Y2YbOemyRUOU"
      },
      "execution_count": null,
      "outputs": []
    },
    {
      "cell_type": "markdown",
      "source": [
        "## Another way to merge the files"
      ],
      "metadata": {
        "id": "Z5Q4btDJSapU"
      }
    },
    {
      "cell_type": "code",
      "source": [
        "# Using listdir and list comprehensions\n",
        "\n",
        "files = [file for file in os.listdir(\"/content/Pandas-Data-Science-Tasks/SalesAnalysis/Sales_Data/\")]\n",
        "# files.remove(\".ipynb_checkpoints\") # A bug file that causes errors (I donno what brought it here)\n",
        "# Make an empty DataFrame\n",
        "data = pd.DataFrame()\n",
        "\n",
        "for file in files:\n",
        "  df = pd.read_csv(\"/content/Pandas-Data-Science-Tasks/SalesAnalysis/Sales_Data/\"+file)\n",
        "  data = pd.concat([data, df])\n",
        "\n",
        "# Save the final CSV file\n",
        "data.to_csv(\"/content/Pandas-Data-Science-Tasks/SalesAnalysis/all_months_data.csv\", index=False)"
      ],
      "metadata": {
        "id": "ghX8Rh8NVHu7"
      },
      "execution_count": null,
      "outputs": []
    },
    {
      "cell_type": "markdown",
      "source": [
        "### When merging the files, the header row appeared multiple times in the final CSV file, let's remove them except the first one\n"
      ],
      "metadata": {
        "id": "8zTcD7RKsQB5"
      }
    },
    {
      "cell_type": "code",
      "source": [
        "## Select the rows that contain header not data (The header Rows)\n",
        "fake_headers = data.index[data['Order Date'] == 'Order Date'].tolist()\n",
        "data2 = data.drop(fake_headers) \n",
        "data2 = data2.dropna(axis=0)"
      ],
      "metadata": {
        "id": "UfCI4lsdoP9U"
      },
      "execution_count": null,
      "outputs": []
    },
    {
      "cell_type": "code",
      "source": [
        "data2.to_csv(\"/content/Pandas-Data-Science-Tasks/SalesAnalysis/data2.csv\", index=False)"
      ],
      "metadata": {
        "id": "3Wl5TbpNqNef"
      },
      "execution_count": null,
      "outputs": []
    },
    {
      "cell_type": "code",
      "source": [
        "data.shape, data2.shape"
      ],
      "metadata": {
        "colab": {
          "base_uri": "https://localhost:8080/"
        },
        "id": "YnYnE8IbsCRU",
        "outputId": "4d2c285c-6d84-4c52-e874-52a610bd0683"
      },
      "execution_count": null,
      "outputs": [
        {
          "output_type": "execute_result",
          "data": {
            "text/plain": [
              "((186850, 6), (182735, 6))"
            ]
          },
          "metadata": {},
          "execution_count": 52
        }
      ]
    },
    {
      "cell_type": "code",
      "source": [
        "# Inspect columns names\n",
        "data2.columns"
      ],
      "metadata": {
        "colab": {
          "base_uri": "https://localhost:8080/"
        },
        "id": "c1ELLHwweQUJ",
        "outputId": "cbe758f7-3144-4618-8555-b039b4790bc4"
      },
      "execution_count": null,
      "outputs": [
        {
          "output_type": "execute_result",
          "data": {
            "text/plain": [
              "Index(['Order ID', 'Product', 'Quantity Ordered', 'Price Each', 'Order Date',\n",
              "       'Purchase Address'],\n",
              "      dtype='object')"
            ]
          },
          "metadata": {},
          "execution_count": 53
        }
      ]
    },
    {
      "cell_type": "markdown",
      "source": [
        "# ❓ Question 1: What is the best month for Sales ? how much  was earned that month ?"
      ],
      "metadata": {
        "id": "WVs1Fkrbe4Xw"
      }
    },
    {
      "cell_type": "markdown",
      "source": [
        "### It looks like \"Quantity Ordered\" is not numeric, let's change that\n"
      ],
      "metadata": {
        "id": "bKhNwotifY1n"
      }
    },
    {
      "cell_type": "code",
      "source": [
        "data2[\"Quantity Ordered\"] = pd.to_numeric(data2[\"Quantity Ordered\"])"
      ],
      "metadata": {
        "id": "ADZlMm19gEhF"
      },
      "execution_count": null,
      "outputs": []
    },
    {
      "cell_type": "code",
      "source": [
        "# Check the data types of columns\n",
        "data.dtypes, data2.dtypes # data2 has the data type of \"Quantity Ordered\" converted to int64"
      ],
      "metadata": {
        "id": "3jrhtE6enCNF",
        "colab": {
          "base_uri": "https://localhost:8080/"
        },
        "outputId": "34fe7635-2d93-4de9-c8ab-870a2247c95b"
      },
      "execution_count": null,
      "outputs": [
        {
          "output_type": "execute_result",
          "data": {
            "text/plain": [
              "(Order ID            object\n",
              " Product             object\n",
              " Quantity Ordered    object\n",
              " Price Each          object\n",
              " Order Date          object\n",
              " Purchase Address    object\n",
              " dtype: object, Order ID            object\n",
              " Product             object\n",
              " Quantity Ordered     int64\n",
              " Price Each          object\n",
              " Order Date          object\n",
              " Purchase Address    object\n",
              " dtype: object)"
            ]
          },
          "metadata": {},
          "execution_count": 55
        }
      ]
    },
    {
      "cell_type": "markdown",
      "source": [
        "## Cleaning Up data"
      ],
      "metadata": {
        "id": "l8FueEsX1WOH"
      }
    },
    {
      "cell_type": "code",
      "source": [
        "# Return the NaN Rows \n",
        "nan_data = data[data.isnull().any(axis=1)]\n",
        "data = data.dropna(how = \"all\")"
      ],
      "metadata": {
        "id": "GRHGOqYUwEVv"
      },
      "execution_count": null,
      "outputs": []
    },
    {
      "cell_type": "code",
      "source": [
        "# Removing the header rows\n",
        "data= data[data[\"Order Date\"].str[0:2] != \"Or\"]\n",
        "data"
      ],
      "metadata": {
        "id": "vSX9cgx-zMti",
        "colab": {
          "base_uri": "https://localhost:8080/",
          "height": 659
        },
        "outputId": "ec02feb0-2597-447b-8247-9c7aff40926f"
      },
      "execution_count": null,
      "outputs": [
        {
          "output_type": "execute_result",
          "data": {
            "text/plain": [
              "      Order ID                     Product Quantity Ordered Price Each  \\\n",
              "0       162009                      iPhone                1        700   \n",
              "1       162009    Lightning Charging Cable                1      14.95   \n",
              "2       162009            Wired Headphones                2      11.99   \n",
              "3       162010  Bose SoundSport Headphones                1      99.99   \n",
              "4       162011      34in Ultrawide Monitor                1     379.99   \n",
              "...        ...                         ...              ...        ...   \n",
              "11681   259353      AAA Batteries (4-pack)                3       2.99   \n",
              "11682   259354                      iPhone                1        700   \n",
              "11683   259355                      iPhone                1        700   \n",
              "11684   259356      34in Ultrawide Monitor                1     379.99   \n",
              "11685   259357        USB-C Charging Cable                1      11.95   \n",
              "\n",
              "           Order Date                         Purchase Address  \n",
              "0      03/28/19 20:59          942 Church St, Austin, TX 73301  \n",
              "1      03/28/19 20:59          942 Church St, Austin, TX 73301  \n",
              "2      03/28/19 20:59          942 Church St, Austin, TX 73301  \n",
              "3      03/17/19 05:39     261 10th St, San Francisco, CA 94016  \n",
              "4      03/10/19 00:01     764 13th St, San Francisco, CA 94016  \n",
              "...               ...                                      ...  \n",
              "11681  09/17/19 20:56   840 Highland St, Los Angeles, CA 90001  \n",
              "11682  09/01/19 16:00  216 Dogwood St, San Francisco, CA 94016  \n",
              "11683  09/23/19 07:39     220 12th St, San Francisco, CA 94016  \n",
              "11684  09/19/19 17:30   511 Forest St, San Francisco, CA 94016  \n",
              "11685  09/30/19 00:18   250 Meadow St, San Francisco, CA 94016  \n",
              "\n",
              "[185950 rows x 6 columns]"
            ],
            "text/html": [
              "\n",
              "  <div id=\"df-09f561fd-d107-431b-8800-aff361dad682\">\n",
              "    <div class=\"colab-df-container\">\n",
              "      <div>\n",
              "<style scoped>\n",
              "    .dataframe tbody tr th:only-of-type {\n",
              "        vertical-align: middle;\n",
              "    }\n",
              "\n",
              "    .dataframe tbody tr th {\n",
              "        vertical-align: top;\n",
              "    }\n",
              "\n",
              "    .dataframe thead th {\n",
              "        text-align: right;\n",
              "    }\n",
              "</style>\n",
              "<table border=\"1\" class=\"dataframe\">\n",
              "  <thead>\n",
              "    <tr style=\"text-align: right;\">\n",
              "      <th></th>\n",
              "      <th>Order ID</th>\n",
              "      <th>Product</th>\n",
              "      <th>Quantity Ordered</th>\n",
              "      <th>Price Each</th>\n",
              "      <th>Order Date</th>\n",
              "      <th>Purchase Address</th>\n",
              "    </tr>\n",
              "  </thead>\n",
              "  <tbody>\n",
              "    <tr>\n",
              "      <th>0</th>\n",
              "      <td>162009</td>\n",
              "      <td>iPhone</td>\n",
              "      <td>1</td>\n",
              "      <td>700</td>\n",
              "      <td>03/28/19 20:59</td>\n",
              "      <td>942 Church St, Austin, TX 73301</td>\n",
              "    </tr>\n",
              "    <tr>\n",
              "      <th>1</th>\n",
              "      <td>162009</td>\n",
              "      <td>Lightning Charging Cable</td>\n",
              "      <td>1</td>\n",
              "      <td>14.95</td>\n",
              "      <td>03/28/19 20:59</td>\n",
              "      <td>942 Church St, Austin, TX 73301</td>\n",
              "    </tr>\n",
              "    <tr>\n",
              "      <th>2</th>\n",
              "      <td>162009</td>\n",
              "      <td>Wired Headphones</td>\n",
              "      <td>2</td>\n",
              "      <td>11.99</td>\n",
              "      <td>03/28/19 20:59</td>\n",
              "      <td>942 Church St, Austin, TX 73301</td>\n",
              "    </tr>\n",
              "    <tr>\n",
              "      <th>3</th>\n",
              "      <td>162010</td>\n",
              "      <td>Bose SoundSport Headphones</td>\n",
              "      <td>1</td>\n",
              "      <td>99.99</td>\n",
              "      <td>03/17/19 05:39</td>\n",
              "      <td>261 10th St, San Francisco, CA 94016</td>\n",
              "    </tr>\n",
              "    <tr>\n",
              "      <th>4</th>\n",
              "      <td>162011</td>\n",
              "      <td>34in Ultrawide Monitor</td>\n",
              "      <td>1</td>\n",
              "      <td>379.99</td>\n",
              "      <td>03/10/19 00:01</td>\n",
              "      <td>764 13th St, San Francisco, CA 94016</td>\n",
              "    </tr>\n",
              "    <tr>\n",
              "      <th>...</th>\n",
              "      <td>...</td>\n",
              "      <td>...</td>\n",
              "      <td>...</td>\n",
              "      <td>...</td>\n",
              "      <td>...</td>\n",
              "      <td>...</td>\n",
              "    </tr>\n",
              "    <tr>\n",
              "      <th>11681</th>\n",
              "      <td>259353</td>\n",
              "      <td>AAA Batteries (4-pack)</td>\n",
              "      <td>3</td>\n",
              "      <td>2.99</td>\n",
              "      <td>09/17/19 20:56</td>\n",
              "      <td>840 Highland St, Los Angeles, CA 90001</td>\n",
              "    </tr>\n",
              "    <tr>\n",
              "      <th>11682</th>\n",
              "      <td>259354</td>\n",
              "      <td>iPhone</td>\n",
              "      <td>1</td>\n",
              "      <td>700</td>\n",
              "      <td>09/01/19 16:00</td>\n",
              "      <td>216 Dogwood St, San Francisco, CA 94016</td>\n",
              "    </tr>\n",
              "    <tr>\n",
              "      <th>11683</th>\n",
              "      <td>259355</td>\n",
              "      <td>iPhone</td>\n",
              "      <td>1</td>\n",
              "      <td>700</td>\n",
              "      <td>09/23/19 07:39</td>\n",
              "      <td>220 12th St, San Francisco, CA 94016</td>\n",
              "    </tr>\n",
              "    <tr>\n",
              "      <th>11684</th>\n",
              "      <td>259356</td>\n",
              "      <td>34in Ultrawide Monitor</td>\n",
              "      <td>1</td>\n",
              "      <td>379.99</td>\n",
              "      <td>09/19/19 17:30</td>\n",
              "      <td>511 Forest St, San Francisco, CA 94016</td>\n",
              "    </tr>\n",
              "    <tr>\n",
              "      <th>11685</th>\n",
              "      <td>259357</td>\n",
              "      <td>USB-C Charging Cable</td>\n",
              "      <td>1</td>\n",
              "      <td>11.95</td>\n",
              "      <td>09/30/19 00:18</td>\n",
              "      <td>250 Meadow St, San Francisco, CA 94016</td>\n",
              "    </tr>\n",
              "  </tbody>\n",
              "</table>\n",
              "<p>185950 rows × 6 columns</p>\n",
              "</div>\n",
              "      <button class=\"colab-df-convert\" onclick=\"convertToInteractive('df-09f561fd-d107-431b-8800-aff361dad682')\"\n",
              "              title=\"Convert this dataframe to an interactive table.\"\n",
              "              style=\"display:none;\">\n",
              "        \n",
              "  <svg xmlns=\"http://www.w3.org/2000/svg\" height=\"24px\"viewBox=\"0 0 24 24\"\n",
              "       width=\"24px\">\n",
              "    <path d=\"M0 0h24v24H0V0z\" fill=\"none\"/>\n",
              "    <path d=\"M18.56 5.44l.94 2.06.94-2.06 2.06-.94-2.06-.94-.94-2.06-.94 2.06-2.06.94zm-11 1L8.5 8.5l.94-2.06 2.06-.94-2.06-.94L8.5 2.5l-.94 2.06-2.06.94zm10 10l.94 2.06.94-2.06 2.06-.94-2.06-.94-.94-2.06-.94 2.06-2.06.94z\"/><path d=\"M17.41 7.96l-1.37-1.37c-.4-.4-.92-.59-1.43-.59-.52 0-1.04.2-1.43.59L10.3 9.45l-7.72 7.72c-.78.78-.78 2.05 0 2.83L4 21.41c.39.39.9.59 1.41.59.51 0 1.02-.2 1.41-.59l7.78-7.78 2.81-2.81c.8-.78.8-2.07 0-2.86zM5.41 20L4 18.59l7.72-7.72 1.47 1.35L5.41 20z\"/>\n",
              "  </svg>\n",
              "      </button>\n",
              "      \n",
              "  <style>\n",
              "    .colab-df-container {\n",
              "      display:flex;\n",
              "      flex-wrap:wrap;\n",
              "      gap: 12px;\n",
              "    }\n",
              "\n",
              "    .colab-df-convert {\n",
              "      background-color: #E8F0FE;\n",
              "      border: none;\n",
              "      border-radius: 50%;\n",
              "      cursor: pointer;\n",
              "      display: none;\n",
              "      fill: #1967D2;\n",
              "      height: 32px;\n",
              "      padding: 0 0 0 0;\n",
              "      width: 32px;\n",
              "    }\n",
              "\n",
              "    .colab-df-convert:hover {\n",
              "      background-color: #E2EBFA;\n",
              "      box-shadow: 0px 1px 2px rgba(60, 64, 67, 0.3), 0px 1px 3px 1px rgba(60, 64, 67, 0.15);\n",
              "      fill: #174EA6;\n",
              "    }\n",
              "\n",
              "    [theme=dark] .colab-df-convert {\n",
              "      background-color: #3B4455;\n",
              "      fill: #D2E3FC;\n",
              "    }\n",
              "\n",
              "    [theme=dark] .colab-df-convert:hover {\n",
              "      background-color: #434B5C;\n",
              "      box-shadow: 0px 1px 3px 1px rgba(0, 0, 0, 0.15);\n",
              "      filter: drop-shadow(0px 1px 2px rgba(0, 0, 0, 0.3));\n",
              "      fill: #FFFFFF;\n",
              "    }\n",
              "  </style>\n",
              "\n",
              "      <script>\n",
              "        const buttonEl =\n",
              "          document.querySelector('#df-09f561fd-d107-431b-8800-aff361dad682 button.colab-df-convert');\n",
              "        buttonEl.style.display =\n",
              "          google.colab.kernel.accessAllowed ? 'block' : 'none';\n",
              "\n",
              "        async function convertToInteractive(key) {\n",
              "          const element = document.querySelector('#df-09f561fd-d107-431b-8800-aff361dad682');\n",
              "          const dataTable =\n",
              "            await google.colab.kernel.invokeFunction('convertToInteractive',\n",
              "                                                     [key], {});\n",
              "          if (!dataTable) return;\n",
              "\n",
              "          const docLinkHtml = 'Like what you see? Visit the ' +\n",
              "            '<a target=\"_blank\" href=https://colab.research.google.com/notebooks/data_table.ipynb>data table notebook</a>'\n",
              "            + ' to learn more about interactive tables.';\n",
              "          element.innerHTML = '';\n",
              "          dataTable['output_type'] = 'display_data';\n",
              "          await google.colab.output.renderOutput(dataTable, element);\n",
              "          const docLink = document.createElement('div');\n",
              "          docLink.innerHTML = docLinkHtml;\n",
              "          element.appendChild(docLink);\n",
              "        }\n",
              "      </script>\n",
              "    </div>\n",
              "  </div>\n",
              "  "
            ]
          },
          "metadata": {},
          "execution_count": 57
        }
      ]
    },
    {
      "cell_type": "code",
      "source": [
        "# Convert \"Quantity ordered\"  and \"Price Each\" to numeric\n",
        "data[\"Quantity Ordered\"] = pd.to_numeric(data[\"Quantity Ordered\"])\n",
        "data[\"Price Each\"] = pd.to_numeric(data[\"Price Each\"])\n",
        "data.dtypes"
      ],
      "metadata": {
        "colab": {
          "base_uri": "https://localhost:8080/"
        },
        "id": "kbf2-a5Z1ZdZ",
        "outputId": "116220e1-643f-4cba-b0bf-43d7232f75d5"
      },
      "execution_count": null,
      "outputs": [
        {
          "output_type": "execute_result",
          "data": {
            "text/plain": [
              "Order ID             object\n",
              "Product              object\n",
              "Quantity Ordered      int64\n",
              "Price Each          float64\n",
              "Order Date           object\n",
              "Purchase Address     object\n",
              "dtype: object"
            ]
          },
          "metadata": {},
          "execution_count": 58
        }
      ]
    },
    {
      "cell_type": "markdown",
      "source": [
        "## Augment data with additional columns"
      ],
      "metadata": {
        "id": "WNBwVsUgrm-j"
      }
    },
    {
      "cell_type": "markdown",
      "source": [
        "### Adding Month column"
      ],
      "metadata": {
        "id": "mFHRvQdV3DmK"
      }
    },
    {
      "cell_type": "code",
      "source": [
        "data['Month']  = data[\"Order Date\"].str[0:2]\n",
        "data[\"Month\"] = data[\"Month\"].astype(np.int32) # Converting column data type to numerical"
      ],
      "metadata": {
        "id": "JzVBMV5Nzt3o"
      },
      "execution_count": null,
      "outputs": []
    },
    {
      "cell_type": "markdown",
      "source": [
        "### Adding a Sales column"
      ],
      "metadata": {
        "id": "KItSswgf076y"
      }
    },
    {
      "cell_type": "code",
      "source": [
        "data[\"Sales\"] = data[\"Quantity Ordered\"] * data[\"Price Each\"]\n",
        "data.head()"
      ],
      "metadata": {
        "colab": {
          "base_uri": "https://localhost:8080/",
          "height": 354
        },
        "id": "nHqPhNny07U1",
        "outputId": "62b5285e-d39b-470d-f1d2-8c3f96abc94b"
      },
      "execution_count": null,
      "outputs": [
        {
          "output_type": "execute_result",
          "data": {
            "text/plain": [
              "  Order ID                     Product  Quantity Ordered  Price Each  \\\n",
              "0   162009                      iPhone                 1      700.00   \n",
              "1   162009    Lightning Charging Cable                 1       14.95   \n",
              "2   162009            Wired Headphones                 2       11.99   \n",
              "3   162010  Bose SoundSport Headphones                 1       99.99   \n",
              "4   162011      34in Ultrawide Monitor                 1      379.99   \n",
              "\n",
              "       Order Date                      Purchase Address  Month   Sales  \n",
              "0  03/28/19 20:59       942 Church St, Austin, TX 73301      3  700.00  \n",
              "1  03/28/19 20:59       942 Church St, Austin, TX 73301      3   14.95  \n",
              "2  03/28/19 20:59       942 Church St, Austin, TX 73301      3   23.98  \n",
              "3  03/17/19 05:39  261 10th St, San Francisco, CA 94016      3   99.99  \n",
              "4  03/10/19 00:01  764 13th St, San Francisco, CA 94016      3  379.99  "
            ],
            "text/html": [
              "\n",
              "  <div id=\"df-e9d36fa2-b985-463f-bdd1-eba0f6271057\">\n",
              "    <div class=\"colab-df-container\">\n",
              "      <div>\n",
              "<style scoped>\n",
              "    .dataframe tbody tr th:only-of-type {\n",
              "        vertical-align: middle;\n",
              "    }\n",
              "\n",
              "    .dataframe tbody tr th {\n",
              "        vertical-align: top;\n",
              "    }\n",
              "\n",
              "    .dataframe thead th {\n",
              "        text-align: right;\n",
              "    }\n",
              "</style>\n",
              "<table border=\"1\" class=\"dataframe\">\n",
              "  <thead>\n",
              "    <tr style=\"text-align: right;\">\n",
              "      <th></th>\n",
              "      <th>Order ID</th>\n",
              "      <th>Product</th>\n",
              "      <th>Quantity Ordered</th>\n",
              "      <th>Price Each</th>\n",
              "      <th>Order Date</th>\n",
              "      <th>Purchase Address</th>\n",
              "      <th>Month</th>\n",
              "      <th>Sales</th>\n",
              "    </tr>\n",
              "  </thead>\n",
              "  <tbody>\n",
              "    <tr>\n",
              "      <th>0</th>\n",
              "      <td>162009</td>\n",
              "      <td>iPhone</td>\n",
              "      <td>1</td>\n",
              "      <td>700.00</td>\n",
              "      <td>03/28/19 20:59</td>\n",
              "      <td>942 Church St, Austin, TX 73301</td>\n",
              "      <td>3</td>\n",
              "      <td>700.00</td>\n",
              "    </tr>\n",
              "    <tr>\n",
              "      <th>1</th>\n",
              "      <td>162009</td>\n",
              "      <td>Lightning Charging Cable</td>\n",
              "      <td>1</td>\n",
              "      <td>14.95</td>\n",
              "      <td>03/28/19 20:59</td>\n",
              "      <td>942 Church St, Austin, TX 73301</td>\n",
              "      <td>3</td>\n",
              "      <td>14.95</td>\n",
              "    </tr>\n",
              "    <tr>\n",
              "      <th>2</th>\n",
              "      <td>162009</td>\n",
              "      <td>Wired Headphones</td>\n",
              "      <td>2</td>\n",
              "      <td>11.99</td>\n",
              "      <td>03/28/19 20:59</td>\n",
              "      <td>942 Church St, Austin, TX 73301</td>\n",
              "      <td>3</td>\n",
              "      <td>23.98</td>\n",
              "    </tr>\n",
              "    <tr>\n",
              "      <th>3</th>\n",
              "      <td>162010</td>\n",
              "      <td>Bose SoundSport Headphones</td>\n",
              "      <td>1</td>\n",
              "      <td>99.99</td>\n",
              "      <td>03/17/19 05:39</td>\n",
              "      <td>261 10th St, San Francisco, CA 94016</td>\n",
              "      <td>3</td>\n",
              "      <td>99.99</td>\n",
              "    </tr>\n",
              "    <tr>\n",
              "      <th>4</th>\n",
              "      <td>162011</td>\n",
              "      <td>34in Ultrawide Monitor</td>\n",
              "      <td>1</td>\n",
              "      <td>379.99</td>\n",
              "      <td>03/10/19 00:01</td>\n",
              "      <td>764 13th St, San Francisco, CA 94016</td>\n",
              "      <td>3</td>\n",
              "      <td>379.99</td>\n",
              "    </tr>\n",
              "  </tbody>\n",
              "</table>\n",
              "</div>\n",
              "      <button class=\"colab-df-convert\" onclick=\"convertToInteractive('df-e9d36fa2-b985-463f-bdd1-eba0f6271057')\"\n",
              "              title=\"Convert this dataframe to an interactive table.\"\n",
              "              style=\"display:none;\">\n",
              "        \n",
              "  <svg xmlns=\"http://www.w3.org/2000/svg\" height=\"24px\"viewBox=\"0 0 24 24\"\n",
              "       width=\"24px\">\n",
              "    <path d=\"M0 0h24v24H0V0z\" fill=\"none\"/>\n",
              "    <path d=\"M18.56 5.44l.94 2.06.94-2.06 2.06-.94-2.06-.94-.94-2.06-.94 2.06-2.06.94zm-11 1L8.5 8.5l.94-2.06 2.06-.94-2.06-.94L8.5 2.5l-.94 2.06-2.06.94zm10 10l.94 2.06.94-2.06 2.06-.94-2.06-.94-.94-2.06-.94 2.06-2.06.94z\"/><path d=\"M17.41 7.96l-1.37-1.37c-.4-.4-.92-.59-1.43-.59-.52 0-1.04.2-1.43.59L10.3 9.45l-7.72 7.72c-.78.78-.78 2.05 0 2.83L4 21.41c.39.39.9.59 1.41.59.51 0 1.02-.2 1.41-.59l7.78-7.78 2.81-2.81c.8-.78.8-2.07 0-2.86zM5.41 20L4 18.59l7.72-7.72 1.47 1.35L5.41 20z\"/>\n",
              "  </svg>\n",
              "      </button>\n",
              "      \n",
              "  <style>\n",
              "    .colab-df-container {\n",
              "      display:flex;\n",
              "      flex-wrap:wrap;\n",
              "      gap: 12px;\n",
              "    }\n",
              "\n",
              "    .colab-df-convert {\n",
              "      background-color: #E8F0FE;\n",
              "      border: none;\n",
              "      border-radius: 50%;\n",
              "      cursor: pointer;\n",
              "      display: none;\n",
              "      fill: #1967D2;\n",
              "      height: 32px;\n",
              "      padding: 0 0 0 0;\n",
              "      width: 32px;\n",
              "    }\n",
              "\n",
              "    .colab-df-convert:hover {\n",
              "      background-color: #E2EBFA;\n",
              "      box-shadow: 0px 1px 2px rgba(60, 64, 67, 0.3), 0px 1px 3px 1px rgba(60, 64, 67, 0.15);\n",
              "      fill: #174EA6;\n",
              "    }\n",
              "\n",
              "    [theme=dark] .colab-df-convert {\n",
              "      background-color: #3B4455;\n",
              "      fill: #D2E3FC;\n",
              "    }\n",
              "\n",
              "    [theme=dark] .colab-df-convert:hover {\n",
              "      background-color: #434B5C;\n",
              "      box-shadow: 0px 1px 3px 1px rgba(0, 0, 0, 0.15);\n",
              "      filter: drop-shadow(0px 1px 2px rgba(0, 0, 0, 0.3));\n",
              "      fill: #FFFFFF;\n",
              "    }\n",
              "  </style>\n",
              "\n",
              "      <script>\n",
              "        const buttonEl =\n",
              "          document.querySelector('#df-e9d36fa2-b985-463f-bdd1-eba0f6271057 button.colab-df-convert');\n",
              "        buttonEl.style.display =\n",
              "          google.colab.kernel.accessAllowed ? 'block' : 'none';\n",
              "\n",
              "        async function convertToInteractive(key) {\n",
              "          const element = document.querySelector('#df-e9d36fa2-b985-463f-bdd1-eba0f6271057');\n",
              "          const dataTable =\n",
              "            await google.colab.kernel.invokeFunction('convertToInteractive',\n",
              "                                                     [key], {});\n",
              "          if (!dataTable) return;\n",
              "\n",
              "          const docLinkHtml = 'Like what you see? Visit the ' +\n",
              "            '<a target=\"_blank\" href=https://colab.research.google.com/notebooks/data_table.ipynb>data table notebook</a>'\n",
              "            + ' to learn more about interactive tables.';\n",
              "          element.innerHTML = '';\n",
              "          dataTable['output_type'] = 'display_data';\n",
              "          await google.colab.output.renderOutput(dataTable, element);\n",
              "          const docLink = document.createElement('div');\n",
              "          docLink.innerHTML = docLinkHtml;\n",
              "          element.appendChild(docLink);\n",
              "        }\n",
              "      </script>\n",
              "    </div>\n",
              "  </div>\n",
              "  "
            ]
          },
          "metadata": {},
          "execution_count": 60
        }
      ]
    },
    {
      "cell_type": "markdown",
      "source": [
        "## Let's get back to our question.. What was the best month for sales ? How much was earned that month ?"
      ],
      "metadata": {
        "id": "8XwLqUJt0i-W"
      }
    },
    {
      "cell_type": "code",
      "source": [
        "sales = data.groupby(\"Month\").sum()\n",
        "print(\"The best month for sales is {} with Sales of ${}\".format(sales[\"Sales\"].argmax() + 1, sales[\"Sales\"].max()))"
      ],
      "metadata": {
        "colab": {
          "base_uri": "https://localhost:8080/"
        },
        "id": "kk9gqgL_0Q3v",
        "outputId": "72dd05ca-0749-4145-a12c-56645fa5330f"
      },
      "execution_count": null,
      "outputs": [
        {
          "output_type": "stream",
          "name": "stdout",
          "text": [
            "The best month for sales is 12 with Sales of $4613443.34\n"
          ]
        }
      ]
    },
    {
      "cell_type": "markdown",
      "source": [
        "✅**Answer:** December (Month 12) was the best month for sales"
      ],
      "metadata": {
        "id": "O6KKm86-5kJX"
      }
    },
    {
      "cell_type": "code",
      "source": [
        "import matplotlib.pyplot as plt\n",
        "\n",
        "months = range(1, 13)\n",
        "\n",
        "plt.figure(figsize=(10, 7))\n",
        "\n",
        "plt.bar(months, sales[\"Sales\"])\n",
        "\n",
        "plt.xticks(months)\n",
        "\n",
        "plt.xlabel(\"Month Number\")\n",
        "plt.ylabel(\"Sales in USD\")\n",
        "\n",
        "plt.show()"
      ],
      "metadata": {
        "colab": {
          "base_uri": "https://localhost:8080/",
          "height": 453
        },
        "id": "JDHbq1L35zqC",
        "outputId": "e981531f-0ba9-450d-d053-a3c675fd39ec"
      },
      "execution_count": null,
      "outputs": [
        {
          "output_type": "display_data",
          "data": {
            "text/plain": [
              "<Figure size 720x504 with 1 Axes>"
            ],
            "image/png": "[encoded data removed]"
          },
          "metadata": {
            "needs_background": "light"
          }
        }
      ]
    },
    {
      "cell_type": "markdown",
      "source": [
        "### Adding a City column"
      ],
      "metadata": {
        "id": "72yqOreYwcAT"
      }
    },
    {
      "cell_type": "code",
      "source": [
        "# Let's use .apply() method\n",
        "\n",
        "data[\"City\"] = data[\"Purchase Address\"].apply(lambda x: x.split(',')[1])\n",
        "data"
      ],
      "metadata": {
        "colab": {
          "base_uri": "https://localhost:8080/",
          "height": 659
        },
        "id": "385bwgM8w8S_",
        "outputId": "ab802945-0b58-47cd-f689-059e6a4056ec"
      },
      "execution_count": null,
      "outputs": [
        {
          "output_type": "execute_result",
          "data": {
            "text/plain": [
              "      Order ID                     Product  Quantity Ordered  Price Each  \\\n",
              "0       162009                      iPhone                 1      700.00   \n",
              "1       162009    Lightning Charging Cable                 1       14.95   \n",
              "2       162009            Wired Headphones                 2       11.99   \n",
              "3       162010  Bose SoundSport Headphones                 1       99.99   \n",
              "4       162011      34in Ultrawide Monitor                 1      379.99   \n",
              "...        ...                         ...               ...         ...   \n",
              "11681   259353      AAA Batteries (4-pack)                 3        2.99   \n",
              "11682   259354                      iPhone                 1      700.00   \n",
              "11683   259355                      iPhone                 1      700.00   \n",
              "11684   259356      34in Ultrawide Monitor                 1      379.99   \n",
              "11685   259357        USB-C Charging Cable                 1       11.95   \n",
              "\n",
              "           Order Date                         Purchase Address  Month   Sales  \\\n",
              "0      03/28/19 20:59          942 Church St, Austin, TX 73301      3  700.00   \n",
              "1      03/28/19 20:59          942 Church St, Austin, TX 73301      3   14.95   \n",
              "2      03/28/19 20:59          942 Church St, Austin, TX 73301      3   23.98   \n",
              "3      03/17/19 05:39     261 10th St, San Francisco, CA 94016      3   99.99   \n",
              "4      03/10/19 00:01     764 13th St, San Francisco, CA 94016      3  379.99   \n",
              "...               ...                                      ...    ...     ...   \n",
              "11681  09/17/19 20:56   840 Highland St, Los Angeles, CA 90001      9    8.97   \n",
              "11682  09/01/19 16:00  216 Dogwood St, San Francisco, CA 94016      9  700.00   \n",
              "11683  09/23/19 07:39     220 12th St, San Francisco, CA 94016      9  700.00   \n",
              "11684  09/19/19 17:30   511 Forest St, San Francisco, CA 94016      9  379.99   \n",
              "11685  09/30/19 00:18   250 Meadow St, San Francisco, CA 94016      9   11.95   \n",
              "\n",
              "                 City  \n",
              "0              Austin  \n",
              "1              Austin  \n",
              "2              Austin  \n",
              "3       San Francisco  \n",
              "4       San Francisco  \n",
              "...               ...  \n",
              "11681     Los Angeles  \n",
              "11682   San Francisco  \n",
              "11683   San Francisco  \n",
              "11684   San Francisco  \n",
              "11685   San Francisco  \n",
              "\n",
              "[185950 rows x 9 columns]"
            ],
            "text/html": [
              "\n",
              "  <div id=\"df-8593b309-f303-4be6-b3c9-6395098448e6\">\n",
              "    <div class=\"colab-df-container\">\n",
              "      <div>\n",
              "<style scoped>\n",
              "    .dataframe tbody tr th:only-of-type {\n",
              "        vertical-align: middle;\n",
              "    }\n",
              "\n",
              "    .dataframe tbody tr th {\n",
              "        vertical-align: top;\n",
              "    }\n",
              "\n",
              "    .dataframe thead th {\n",
              "        text-align: right;\n",
              "    }\n",
              "</style>\n",
              "<table border=\"1\" class=\"dataframe\">\n",
              "  <thead>\n",
              "    <tr style=\"text-align: right;\">\n",
              "      <th></th>\n",
              "      <th>Order ID</th>\n",
              "      <th>Product</th>\n",
              "      <th>Quantity Ordered</th>\n",
              "      <th>Price Each</th>\n",
              "      <th>Order Date</th>\n",
              "      <th>Purchase Address</th>\n",
              "      <th>Month</th>\n",
              "      <th>Sales</th>\n",
              "      <th>City</th>\n",
              "    </tr>\n",
              "  </thead>\n",
              "  <tbody>\n",
              "    <tr>\n",
              "      <th>0</th>\n",
              "      <td>162009</td>\n",
              "      <td>iPhone</td>\n",
              "      <td>1</td>\n",
              "      <td>700.00</td>\n",
              "      <td>03/28/19 20:59</td>\n",
              "      <td>942 Church St, Austin, TX 73301</td>\n",
              "      <td>3</td>\n",
              "      <td>700.00</td>\n",
              "      <td>Austin</td>\n",
              "    </tr>\n",
              "    <tr>\n",
              "      <th>1</th>\n",
              "      <td>162009</td>\n",
              "      <td>Lightning Charging Cable</td>\n",
              "      <td>1</td>\n",
              "      <td>14.95</td>\n",
              "      <td>03/28/19 20:59</td>\n",
              "      <td>942 Church St, Austin, TX 73301</td>\n",
              "      <td>3</td>\n",
              "      <td>14.95</td>\n",
              "      <td>Austin</td>\n",
              "    </tr>\n",
              "    <tr>\n",
              "      <th>2</th>\n",
              "      <td>162009</td>\n",
              "      <td>Wired Headphones</td>\n",
              "      <td>2</td>\n",
              "      <td>11.99</td>\n",
              "      <td>03/28/19 20:59</td>\n",
              "      <td>942 Church St, Austin, TX 73301</td>\n",
              "      <td>3</td>\n",
              "      <td>23.98</td>\n",
              "      <td>Austin</td>\n",
              "    </tr>\n",
              "    <tr>\n",
              "      <th>3</th>\n",
              "      <td>162010</td>\n",
              "      <td>Bose SoundSport Headphones</td>\n",
              "      <td>1</td>\n",
              "      <td>99.99</td>\n",
              "      <td>03/17/19 05:39</td>\n",
              "      <td>261 10th St, San Francisco, CA 94016</td>\n",
              "      <td>3</td>\n",
              "      <td>99.99</td>\n",
              "      <td>San Francisco</td>\n",
              "    </tr>\n",
              "    <tr>\n",
              "      <th>4</th>\n",
              "      <td>162011</td>\n",
              "      <td>34in Ultrawide Monitor</td>\n",
              "      <td>1</td>\n",
              "      <td>379.99</td>\n",
              "      <td>03/10/19 00:01</td>\n",
              "      <td>764 13th St, San Francisco, CA 94016</td>\n",
              "      <td>3</td>\n",
              "      <td>379.99</td>\n",
              "      <td>San Francisco</td>\n",
              "    </tr>\n",
              "    <tr>\n",
              "      <th>...</th>\n",
              "      <td>...</td>\n",
              "      <td>...</td>\n",
              "      <td>...</td>\n",
              "      <td>...</td>\n",
              "      <td>...</td>\n",
              "      <td>...</td>\n",
              "      <td>...</td>\n",
              "      <td>...</td>\n",
              "      <td>...</td>\n",
              "    </tr>\n",
              "    <tr>\n",
              "      <th>11681</th>\n",
              "      <td>259353</td>\n",
              "      <td>AAA Batteries (4-pack)</td>\n",
              "      <td>3</td>\n",
              "      <td>2.99</td>\n",
              "      <td>09/17/19 20:56</td>\n",
              "      <td>840 Highland St, Los Angeles, CA 90001</td>\n",
              "      <td>9</td>\n",
              "      <td>8.97</td>\n",
              "      <td>Los Angeles</td>\n",
              "    </tr>\n",
              "    <tr>\n",
              "      <th>11682</th>\n",
              "      <td>259354</td>\n",
              "      <td>iPhone</td>\n",
              "      <td>1</td>\n",
              "      <td>700.00</td>\n",
              "      <td>09/01/19 16:00</td>\n",
              "      <td>216 Dogwood St, San Francisco, CA 94016</td>\n",
              "      <td>9</td>\n",
              "      <td>700.00</td>\n",
              "      <td>San Francisco</td>\n",
              "    </tr>\n",
              "    <tr>\n",
              "      <th>11683</th>\n",
              "      <td>259355</td>\n",
              "      <td>iPhone</td>\n",
              "      <td>1</td>\n",
              "      <td>700.00</td>\n",
              "      <td>09/23/19 07:39</td>\n",
              "      <td>220 12th St, San Francisco, CA 94016</td>\n",
              "      <td>9</td>\n",
              "      <td>700.00</td>\n",
              "      <td>San Francisco</td>\n",
              "    </tr>\n",
              "    <tr>\n",
              "      <th>11684</th>\n",
              "      <td>259356</td>\n",
              "      <td>34in Ultrawide Monitor</td>\n",
              "      <td>1</td>\n",
              "      <td>379.99</td>\n",
              "      <td>09/19/19 17:30</td>\n",
              "      <td>511 Forest St, San Francisco, CA 94016</td>\n",
              "      <td>9</td>\n",
              "      <td>379.99</td>\n",
              "      <td>San Francisco</td>\n",
              "    </tr>\n",
              "    <tr>\n",
              "      <th>11685</th>\n",
              "      <td>259357</td>\n",
              "      <td>USB-C Charging Cable</td>\n",
              "      <td>1</td>\n",
              "      <td>11.95</td>\n",
              "      <td>09/30/19 00:18</td>\n",
              "      <td>250 Meadow St, San Francisco, CA 94016</td>\n",
              "      <td>9</td>\n",
              "      <td>11.95</td>\n",
              "      <td>San Francisco</td>\n",
              "    </tr>\n",
              "  </tbody>\n",
              "</table>\n",
              "<p>185950 rows × 9 columns</p>\n",
              "</div>\n",
              "      <button class=\"colab-df-convert\" onclick=\"convertToInteractive('df-8593b309-f303-4be6-b3c9-6395098448e6')\"\n",
              "              title=\"Convert this dataframe to an interactive table.\"\n",
              "              style=\"display:none;\">\n",
              "        \n",
              "  <svg xmlns=\"http://www.w3.org/2000/svg\" height=\"24px\"viewBox=\"0 0 24 24\"\n",
              "       width=\"24px\">\n",
              "    <path d=\"M0 0h24v24H0V0z\" fill=\"none\"/>\n",
              "    <path d=\"M18.56 5.44l.94 2.06.94-2.06 2.06-.94-2.06-.94-.94-2.06-.94 2.06-2.06.94zm-11 1L8.5 8.5l.94-2.06 2.06-.94-2.06-.94L8.5 2.5l-.94 2.06-2.06.94zm10 10l.94 2.06.94-2.06 2.06-.94-2.06-.94-.94-2.06-.94 2.06-2.06.94z\"/><path d=\"M17.41 7.96l-1.37-1.37c-.4-.4-.92-.59-1.43-.59-.52 0-1.04.2-1.43.59L10.3 9.45l-7.72 7.72c-.78.78-.78 2.05 0 2.83L4 21.41c.39.39.9.59 1.41.59.51 0 1.02-.2 1.41-.59l7.78-7.78 2.81-2.81c.8-.78.8-2.07 0-2.86zM5.41 20L4 18.59l7.72-7.72 1.47 1.35L5.41 20z\"/>\n",
              "  </svg>\n",
              "      </button>\n",
              "      \n",
              "  <style>\n",
              "    .colab-df-container {\n",
              "      display:flex;\n",
              "      flex-wrap:wrap;\n",
              "      gap: 12px;\n",
              "    }\n",
              "\n",
              "    .colab-df-convert {\n",
              "      background-color: #E8F0FE;\n",
              "      border: none;\n",
              "      border-radius: 50%;\n",
              "      cursor: pointer;\n",
              "      display: none;\n",
              "      fill: #1967D2;\n",
              "      height: 32px;\n",
              "      padding: 0 0 0 0;\n",
              "      width: 32px;\n",
              "    }\n",
              "\n",
              "    .colab-df-convert:hover {\n",
              "      background-color: #E2EBFA;\n",
              "      box-shadow: 0px 1px 2px rgba(60, 64, 67, 0.3), 0px 1px 3px 1px rgba(60, 64, 67, 0.15);\n",
              "      fill: #174EA6;\n",
              "    }\n",
              "\n",
              "    [theme=dark] .colab-df-convert {\n",
              "      background-color: #3B4455;\n",
              "      fill: #D2E3FC;\n",
              "    }\n",
              "\n",
              "    [theme=dark] .colab-df-convert:hover {\n",
              "      background-color: #434B5C;\n",
              "      box-shadow: 0px 1px 3px 1px rgba(0, 0, 0, 0.15);\n",
              "      filter: drop-shadow(0px 1px 2px rgba(0, 0, 0, 0.3));\n",
              "      fill: #FFFFFF;\n",
              "    }\n",
              "  </style>\n",
              "\n",
              "      <script>\n",
              "        const buttonEl =\n",
              "          document.querySelector('#df-8593b309-f303-4be6-b3c9-6395098448e6 button.colab-df-convert');\n",
              "        buttonEl.style.display =\n",
              "          google.colab.kernel.accessAllowed ? 'block' : 'none';\n",
              "\n",
              "        async function convertToInteractive(key) {\n",
              "          const element = document.querySelector('#df-8593b309-f303-4be6-b3c9-6395098448e6');\n",
              "          const dataTable =\n",
              "            await google.colab.kernel.invokeFunction('convertToInteractive',\n",
              "                                                     [key], {});\n",
              "          if (!dataTable) return;\n",
              "\n",
              "          const docLinkHtml = 'Like what you see? Visit the ' +\n",
              "            '<a target=\"_blank\" href=https://colab.research.google.com/notebooks/data_table.ipynb>data table notebook</a>'\n",
              "            + ' to learn more about interactive tables.';\n",
              "          element.innerHTML = '';\n",
              "          dataTable['output_type'] = 'display_data';\n",
              "          await google.colab.output.renderOutput(dataTable, element);\n",
              "          const docLink = document.createElement('div');\n",
              "          docLink.innerHTML = docLinkHtml;\n",
              "          element.appendChild(docLink);\n",
              "        }\n",
              "      </script>\n",
              "    </div>\n",
              "  </div>\n",
              "  "
            ]
          },
          "metadata": {},
          "execution_count": 63
        }
      ]
    },
    {
      "cell_type": "markdown",
      "source": [
        "# ❓ Question 2: What city has the highest number of Sales ?\n",
        "\n",
        "\n"
      ],
      "metadata": {
        "id": "Mdt60SMk7hCW"
      }
    },
    {
      "cell_type": "code",
      "source": [
        "Cities = data.groupby(\"City\").sum()\n",
        "print(\"The city that has the highest number of Sales is San Francisco with Sales of ${}\".format(Cities[\"Sales\"].max()))"
      ],
      "metadata": {
        "id": "lapYkT4k8-3z",
        "colab": {
          "base_uri": "https://localhost:8080/"
        },
        "outputId": "cc0ff078-defd-41b3-919b-75e2725bc88d"
      },
      "execution_count": null,
      "outputs": [
        {
          "output_type": "stream",
          "name": "stdout",
          "text": [
            "The city that has the highest number of Sales is San Francisco with Sales of $8262203.91\n"
          ]
        }
      ]
    },
    {
      "cell_type": "markdown",
      "source": [
        "✅ **Answer:** San Francisco "
      ],
      "metadata": {
        "id": "yZxaaqgC3Had"
      }
    },
    {
      "cell_type": "markdown",
      "source": [
        "❗ We have a problem in this approach, which is the duplicates in cities.\n",
        "To solve this problem, we will include the state in our aggregation"
      ],
      "metadata": {
        "id": "Qg1TmSV84kN3"
      }
    },
    {
      "cell_type": "code",
      "source": [
        "def get_state(address):\n",
        "  return address.split(',')[2][0:3]"
      ],
      "metadata": {
        "id": "ydhYWLQ74j9H"
      },
      "execution_count": null,
      "outputs": []
    },
    {
      "cell_type": "code",
      "source": [
        "data[\"City\"] = data[\"Purchase Address\"].apply(lambda x: x.split(',')[1] + \" \" + get_state(x))"
      ],
      "metadata": {
        "id": "drLxCcpE2BvM"
      },
      "execution_count": null,
      "outputs": []
    },
    {
      "cell_type": "code",
      "source": [
        "Cities = data.groupby(\"City\").sum()\n",
        "print(\"The city that has the highest number of Sales is San Francisco with Sales of ${}\".format(Cities[\"Sales\"].max()))\n",
        "result = Cities[\"Sales\"]\n",
        "result"
      ],
      "metadata": {
        "colab": {
          "base_uri": "https://localhost:8080/"
        },
        "id": "tWJsWdrl5cG9",
        "outputId": "d1e0e8ef-1b50-40c5-94f1-37d7fcc6d245"
      },
      "execution_count": null,
      "outputs": [
        {
          "output_type": "stream",
          "name": "stdout",
          "text": [
            "The city that has the highest number of Sales is San Francisco with Sales of $8262203.91\n"
          ]
        },
        {
          "output_type": "execute_result",
          "data": {
            "text/plain": [
              "City\n",
              " Atlanta  GA          2795498.58\n",
              " Austin  TX           1819581.75\n",
              " Boston  MA           3661642.01\n",
              " Dallas  TX           2767975.40\n",
              " Los Angeles  CA      5452570.80\n",
              " New York City  NY    4664317.43\n",
              " Portland  ME          449758.27\n",
              " Portland  OR         1870732.34\n",
              " San Francisco  CA    8262203.91\n",
              " Seattle  WA          2747755.48\n",
              "Name: Sales, dtype: float64"
            ]
          },
          "metadata": {},
          "execution_count": 67
        }
      ]
    },
    {
      "cell_type": "markdown",
      "source": [
        "✅ **Answer:** San Francisco "
      ],
      "metadata": {
        "id": "j8PtCKsr5t8s"
      }
    },
    {
      "cell_type": "markdown",
      "source": [
        "## Let's Plot the results"
      ],
      "metadata": {
        "id": "xBCgOkVV7lXI"
      }
    },
    {
      "cell_type": "code",
      "source": [
        "import matplotlib.pyplot as plt\n",
        "\n",
        "cities = [city for city, df in data.groupby(\"City\")]\n",
        "\n",
        "plt.figure(figsize=(10, 7))\n",
        "\n",
        "plt.bar(cities, result)\n",
        "\n",
        "plt.xticks(cities, rotation=\"vertical\", fontsize=10)\n",
        "\n",
        "plt.xlabel(\"Cities\")\n",
        "plt.ylabel(\"Sales in USD\")\n",
        "\n",
        "plt.show()"
      ],
      "metadata": {
        "colab": {
          "base_uri": "https://localhost:8080/",
          "height": 535
        },
        "id": "sIMsBp4y54Vc",
        "outputId": "906ff095-645f-4bc5-dfad-f224e0349a97"
      },
      "execution_count": null,
      "outputs": [
        {
          "output_type": "display_data",
          "data": {
            "text/plain": [
              "<Figure size 720x504 with 1 Axes>"
            ],
            "image/png": "[encoded data removed]"
          },
          "metadata": {
            "needs_background": "light"
          }
        }
      ]
    },
    {
      "cell_type": "code",
      "source": [
        "data"
      ],
      "metadata": {
        "colab": {
          "base_uri": "https://localhost:8080/",
          "height": 659
        },
        "id": "q8kfbx716L5w",
        "outputId": "65763100-c59b-4077-e8a5-add93463fdb0"
      },
      "execution_count": null,
      "outputs": [
        {
          "output_type": "execute_result",
          "data": {
            "text/plain": [
              "      Order ID                     Product  Quantity Ordered  Price Each  \\\n",
              "0       162009                      iPhone                 1      700.00   \n",
              "1       162009    Lightning Charging Cable                 1       14.95   \n",
              "2       162009            Wired Headphones                 2       11.99   \n",
              "3       162010  Bose SoundSport Headphones                 1       99.99   \n",
              "4       162011      34in Ultrawide Monitor                 1      379.99   \n",
              "...        ...                         ...               ...         ...   \n",
              "11681   259353      AAA Batteries (4-pack)                 3        2.99   \n",
              "11682   259354                      iPhone                 1      700.00   \n",
              "11683   259355                      iPhone                 1      700.00   \n",
              "11684   259356      34in Ultrawide Monitor                 1      379.99   \n",
              "11685   259357        USB-C Charging Cable                 1       11.95   \n",
              "\n",
              "           Order Date                         Purchase Address  Month   Sales  \\\n",
              "0      03/28/19 20:59          942 Church St, Austin, TX 73301      3  700.00   \n",
              "1      03/28/19 20:59          942 Church St, Austin, TX 73301      3   14.95   \n",
              "2      03/28/19 20:59          942 Church St, Austin, TX 73301      3   23.98   \n",
              "3      03/17/19 05:39     261 10th St, San Francisco, CA 94016      3   99.99   \n",
              "4      03/10/19 00:01     764 13th St, San Francisco, CA 94016      3  379.99   \n",
              "...               ...                                      ...    ...     ...   \n",
              "11681  09/17/19 20:56   840 Highland St, Los Angeles, CA 90001      9    8.97   \n",
              "11682  09/01/19 16:00  216 Dogwood St, San Francisco, CA 94016      9  700.00   \n",
              "11683  09/23/19 07:39     220 12th St, San Francisco, CA 94016      9  700.00   \n",
              "11684  09/19/19 17:30   511 Forest St, San Francisco, CA 94016      9  379.99   \n",
              "11685  09/30/19 00:18   250 Meadow St, San Francisco, CA 94016      9   11.95   \n",
              "\n",
              "                     City  \n",
              "0              Austin  TX  \n",
              "1              Austin  TX  \n",
              "2              Austin  TX  \n",
              "3       San Francisco  CA  \n",
              "4       San Francisco  CA  \n",
              "...                   ...  \n",
              "11681     Los Angeles  CA  \n",
              "11682   San Francisco  CA  \n",
              "11683   San Francisco  CA  \n",
              "11684   San Francisco  CA  \n",
              "11685   San Francisco  CA  \n",
              "\n",
              "[185950 rows x 9 columns]"
            ],
            "text/html": [
              "\n",
              "  <div id=\"df-3085a522-ca6d-4be8-b1fc-64a7b0dabc68\">\n",
              "    <div class=\"colab-df-container\">\n",
              "      <div>\n",
              "<style scoped>\n",
              "    .dataframe tbody tr th:only-of-type {\n",
              "        vertical-align: middle;\n",
              "    }\n",
              "\n",
              "    .dataframe tbody tr th {\n",
              "        vertical-align: top;\n",
              "    }\n",
              "\n",
              "    .dataframe thead th {\n",
              "        text-align: right;\n",
              "    }\n",
              "</style>\n",
              "<table border=\"1\" class=\"dataframe\">\n",
              "  <thead>\n",
              "    <tr style=\"text-align: right;\">\n",
              "      <th></th>\n",
              "      <th>Order ID</th>\n",
              "      <th>Product</th>\n",
              "      <th>Quantity Ordered</th>\n",
              "      <th>Price Each</th>\n",
              "      <th>Order Date</th>\n",
              "      <th>Purchase Address</th>\n",
              "      <th>Month</th>\n",
              "      <th>Sales</th>\n",
              "      <th>City</th>\n",
              "    </tr>\n",
              "  </thead>\n",
              "  <tbody>\n",
              "    <tr>\n",
              "      <th>0</th>\n",
              "      <td>162009</td>\n",
              "      <td>iPhone</td>\n",
              "      <td>1</td>\n",
              "      <td>700.00</td>\n",
              "      <td>03/28/19 20:59</td>\n",
              "      <td>942 Church St, Austin, TX 73301</td>\n",
              "      <td>3</td>\n",
              "      <td>700.00</td>\n",
              "      <td>Austin  TX</td>\n",
              "    </tr>\n",
              "    <tr>\n",
              "      <th>1</th>\n",
              "      <td>162009</td>\n",
              "      <td>Lightning Charging Cable</td>\n",
              "      <td>1</td>\n",
              "      <td>14.95</td>\n",
              "      <td>03/28/19 20:59</td>\n",
              "      <td>942 Church St, Austin, TX 73301</td>\n",
              "      <td>3</td>\n",
              "      <td>14.95</td>\n",
              "      <td>Austin  TX</td>\n",
              "    </tr>\n",
              "    <tr>\n",
              "      <th>2</th>\n",
              "      <td>162009</td>\n",
              "      <td>Wired Headphones</td>\n",
              "      <td>2</td>\n",
              "      <td>11.99</td>\n",
              "      <td>03/28/19 20:59</td>\n",
              "      <td>942 Church St, Austin, TX 73301</td>\n",
              "      <td>3</td>\n",
              "      <td>23.98</td>\n",
              "      <td>Austin  TX</td>\n",
              "    </tr>\n",
              "    <tr>\n",
              "      <th>3</th>\n",
              "      <td>162010</td>\n",
              "      <td>Bose SoundSport Headphones</td>\n",
              "      <td>1</td>\n",
              "      <td>99.99</td>\n",
              "      <td>03/17/19 05:39</td>\n",
              "      <td>261 10th St, San Francisco, CA 94016</td>\n",
              "      <td>3</td>\n",
              "      <td>99.99</td>\n",
              "      <td>San Francisco  CA</td>\n",
              "    </tr>\n",
              "    <tr>\n",
              "      <th>4</th>\n",
              "      <td>162011</td>\n",
              "      <td>34in Ultrawide Monitor</td>\n",
              "      <td>1</td>\n",
              "      <td>379.99</td>\n",
              "      <td>03/10/19 00:01</td>\n",
              "      <td>764 13th St, San Francisco, CA 94016</td>\n",
              "      <td>3</td>\n",
              "      <td>379.99</td>\n",
              "      <td>San Francisco  CA</td>\n",
              "    </tr>\n",
              "    <tr>\n",
              "      <th>...</th>\n",
              "      <td>...</td>\n",
              "      <td>...</td>\n",
              "      <td>...</td>\n",
              "      <td>...</td>\n",
              "      <td>...</td>\n",
              "      <td>...</td>\n",
              "      <td>...</td>\n",
              "      <td>...</td>\n",
              "      <td>...</td>\n",
              "    </tr>\n",
              "    <tr>\n",
              "      <th>11681</th>\n",
              "      <td>259353</td>\n",
              "      <td>AAA Batteries (4-pack)</td>\n",
              "      <td>3</td>\n",
              "      <td>2.99</td>\n",
              "      <td>09/17/19 20:56</td>\n",
              "      <td>840 Highland St, Los Angeles, CA 90001</td>\n",
              "      <td>9</td>\n",
              "      <td>8.97</td>\n",
              "      <td>Los Angeles  CA</td>\n",
              "    </tr>\n",
              "    <tr>\n",
              "      <th>11682</th>\n",
              "      <td>259354</td>\n",
              "      <td>iPhone</td>\n",
              "      <td>1</td>\n",
              "      <td>700.00</td>\n",
              "      <td>09/01/19 16:00</td>\n",
              "      <td>216 Dogwood St, San Francisco, CA 94016</td>\n",
              "      <td>9</td>\n",
              "      <td>700.00</td>\n",
              "      <td>San Francisco  CA</td>\n",
              "    </tr>\n",
              "    <tr>\n",
              "      <th>11683</th>\n",
              "      <td>259355</td>\n",
              "      <td>iPhone</td>\n",
              "      <td>1</td>\n",
              "      <td>700.00</td>\n",
              "      <td>09/23/19 07:39</td>\n",
              "      <td>220 12th St, San Francisco, CA 94016</td>\n",
              "      <td>9</td>\n",
              "      <td>700.00</td>\n",
              "      <td>San Francisco  CA</td>\n",
              "    </tr>\n",
              "    <tr>\n",
              "      <th>11684</th>\n",
              "      <td>259356</td>\n",
              "      <td>34in Ultrawide Monitor</td>\n",
              "      <td>1</td>\n",
              "      <td>379.99</td>\n",
              "      <td>09/19/19 17:30</td>\n",
              "      <td>511 Forest St, San Francisco, CA 94016</td>\n",
              "      <td>9</td>\n",
              "      <td>379.99</td>\n",
              "      <td>San Francisco  CA</td>\n",
              "    </tr>\n",
              "    <tr>\n",
              "      <th>11685</th>\n",
              "      <td>259357</td>\n",
              "      <td>USB-C Charging Cable</td>\n",
              "      <td>1</td>\n",
              "      <td>11.95</td>\n",
              "      <td>09/30/19 00:18</td>\n",
              "      <td>250 Meadow St, San Francisco, CA 94016</td>\n",
              "      <td>9</td>\n",
              "      <td>11.95</td>\n",
              "      <td>San Francisco  CA</td>\n",
              "    </tr>\n",
              "  </tbody>\n",
              "</table>\n",
              "<p>185950 rows × 9 columns</p>\n",
              "</div>\n",
              "      <button class=\"colab-df-convert\" onclick=\"convertToInteractive('df-3085a522-ca6d-4be8-b1fc-64a7b0dabc68')\"\n",
              "              title=\"Convert this dataframe to an interactive table.\"\n",
              "              style=\"display:none;\">\n",
              "        \n",
              "  <svg xmlns=\"http://www.w3.org/2000/svg\" height=\"24px\"viewBox=\"0 0 24 24\"\n",
              "       width=\"24px\">\n",
              "    <path d=\"M0 0h24v24H0V0z\" fill=\"none\"/>\n",
              "    <path d=\"M18.56 5.44l.94 2.06.94-2.06 2.06-.94-2.06-.94-.94-2.06-.94 2.06-2.06.94zm-11 1L8.5 8.5l.94-2.06 2.06-.94-2.06-.94L8.5 2.5l-.94 2.06-2.06.94zm10 10l.94 2.06.94-2.06 2.06-.94-2.06-.94-.94-2.06-.94 2.06-2.06.94z\"/><path d=\"M17.41 7.96l-1.37-1.37c-.4-.4-.92-.59-1.43-.59-.52 0-1.04.2-1.43.59L10.3 9.45l-7.72 7.72c-.78.78-.78 2.05 0 2.83L4 21.41c.39.39.9.59 1.41.59.51 0 1.02-.2 1.41-.59l7.78-7.78 2.81-2.81c.8-.78.8-2.07 0-2.86zM5.41 20L4 18.59l7.72-7.72 1.47 1.35L5.41 20z\"/>\n",
              "  </svg>\n",
              "      </button>\n",
              "      \n",
              "  <style>\n",
              "    .colab-df-container {\n",
              "      display:flex;\n",
              "      flex-wrap:wrap;\n",
              "      gap: 12px;\n",
              "    }\n",
              "\n",
              "    .colab-df-convert {\n",
              "      background-color: #E8F0FE;\n",
              "      border: none;\n",
              "      border-radius: 50%;\n",
              "      cursor: pointer;\n",
              "      display: none;\n",
              "      fill: #1967D2;\n",
              "      height: 32px;\n",
              "      padding: 0 0 0 0;\n",
              "      width: 32px;\n",
              "    }\n",
              "\n",
              "    .colab-df-convert:hover {\n",
              "      background-color: #E2EBFA;\n",
              "      box-shadow: 0px 1px 2px rgba(60, 64, 67, 0.3), 0px 1px 3px 1px rgba(60, 64, 67, 0.15);\n",
              "      fill: #174EA6;\n",
              "    }\n",
              "\n",
              "    [theme=dark] .colab-df-convert {\n",
              "      background-color: #3B4455;\n",
              "      fill: #D2E3FC;\n",
              "    }\n",
              "\n",
              "    [theme=dark] .colab-df-convert:hover {\n",
              "      background-color: #434B5C;\n",
              "      box-shadow: 0px 1px 3px 1px rgba(0, 0, 0, 0.15);\n",
              "      filter: drop-shadow(0px 1px 2px rgba(0, 0, 0, 0.3));\n",
              "      fill: #FFFFFF;\n",
              "    }\n",
              "  </style>\n",
              "\n",
              "      <script>\n",
              "        const buttonEl =\n",
              "          document.querySelector('#df-3085a522-ca6d-4be8-b1fc-64a7b0dabc68 button.colab-df-convert');\n",
              "        buttonEl.style.display =\n",
              "          google.colab.kernel.accessAllowed ? 'block' : 'none';\n",
              "\n",
              "        async function convertToInteractive(key) {\n",
              "          const element = document.querySelector('#df-3085a522-ca6d-4be8-b1fc-64a7b0dabc68');\n",
              "          const dataTable =\n",
              "            await google.colab.kernel.invokeFunction('convertToInteractive',\n",
              "                                                     [key], {});\n",
              "          if (!dataTable) return;\n",
              "\n",
              "          const docLinkHtml = 'Like what you see? Visit the ' +\n",
              "            '<a target=\"_blank\" href=https://colab.research.google.com/notebooks/data_table.ipynb>data table notebook</a>'\n",
              "            + ' to learn more about interactive tables.';\n",
              "          element.innerHTML = '';\n",
              "          dataTable['output_type'] = 'display_data';\n",
              "          await google.colab.output.renderOutput(dataTable, element);\n",
              "          const docLink = document.createElement('div');\n",
              "          docLink.innerHTML = docLinkHtml;\n",
              "          element.appendChild(docLink);\n",
              "        }\n",
              "      </script>\n",
              "    </div>\n",
              "  </div>\n",
              "  "
            ]
          },
          "metadata": {},
          "execution_count": 69
        }
      ]
    },
    {
      "cell_type": "code",
      "source": [
        "data[\"Order Date\"] = pd.to_datetime(data[\"Order Date\"])"
      ],
      "metadata": {
        "id": "NUWpNmBR6ojP"
      },
      "execution_count": null,
      "outputs": []
    },
    {
      "cell_type": "code",
      "source": [
        "data[\"Hour\"] = data[\"Order Date\"].dt.hour\n",
        "data[\"Minute\"] = data[\"Order Date\"].dt.minute\n",
        "data[\"Count\"] = 1\n",
        "data.head()"
      ],
      "metadata": {
        "colab": {
          "base_uri": "https://localhost:8080/",
          "height": 389
        },
        "id": "8taax3AV6nTc",
        "outputId": "7fd0e6ff-f18c-4cce-9c05-2f6cba2073f3"
      },
      "execution_count": null,
      "outputs": [
        {
          "output_type": "execute_result",
          "data": {
            "text/plain": [
              "  Order ID                     Product  Quantity Ordered  Price Each  \\\n",
              "0   162009                      iPhone                 1      700.00   \n",
              "1   162009    Lightning Charging Cable                 1       14.95   \n",
              "2   162009            Wired Headphones                 2       11.99   \n",
              "3   162010  Bose SoundSport Headphones                 1       99.99   \n",
              "4   162011      34in Ultrawide Monitor                 1      379.99   \n",
              "\n",
              "           Order Date                      Purchase Address  Month   Sales  \\\n",
              "0 2019-03-28 20:59:00       942 Church St, Austin, TX 73301      3  700.00   \n",
              "1 2019-03-28 20:59:00       942 Church St, Austin, TX 73301      3   14.95   \n",
              "2 2019-03-28 20:59:00       942 Church St, Austin, TX 73301      3   23.98   \n",
              "3 2019-03-17 05:39:00  261 10th St, San Francisco, CA 94016      3   99.99   \n",
              "4 2019-03-10 00:01:00  764 13th St, San Francisco, CA 94016      3  379.99   \n",
              "\n",
              "                 City  Hour  Minute  Count  \n",
              "0          Austin  TX    20      59      1  \n",
              "1          Austin  TX    20      59      1  \n",
              "2          Austin  TX    20      59      1  \n",
              "3   San Francisco  CA     5      39      1  \n",
              "4   San Francisco  CA     0       1      1  "
            ],
            "text/html": [
              "\n",
              "  <div id=\"df-3d51363e-d4b1-45e6-badf-7b4953602e5b\">\n",
              "    <div class=\"colab-df-container\">\n",
              "      <div>\n",
              "<style scoped>\n",
              "    .dataframe tbody tr th:only-of-type {\n",
              "        vertical-align: middle;\n",
              "    }\n",
              "\n",
              "    .dataframe tbody tr th {\n",
              "        vertical-align: top;\n",
              "    }\n",
              "\n",
              "    .dataframe thead th {\n",
              "        text-align: right;\n",
              "    }\n",
              "</style>\n",
              "<table border=\"1\" class=\"dataframe\">\n",
              "  <thead>\n",
              "    <tr style=\"text-align: right;\">\n",
              "      <th></th>\n",
              "      <th>Order ID</th>\n",
              "      <th>Product</th>\n",
              "      <th>Quantity Ordered</th>\n",
              "      <th>Price Each</th>\n",
              "      <th>Order Date</th>\n",
              "      <th>Purchase Address</th>\n",
              "      <th>Month</th>\n",
              "      <th>Sales</th>\n",
              "      <th>City</th>\n",
              "      <th>Hour</th>\n",
              "      <th>Minute</th>\n",
              "      <th>Count</th>\n",
              "    </tr>\n",
              "  </thead>\n",
              "  <tbody>\n",
              "    <tr>\n",
              "      <th>0</th>\n",
              "      <td>162009</td>\n",
              "      <td>iPhone</td>\n",
              "      <td>1</td>\n",
              "      <td>700.00</td>\n",
              "      <td>2019-03-28 20:59:00</td>\n",
              "      <td>942 Church St, Austin, TX 73301</td>\n",
              "      <td>3</td>\n",
              "      <td>700.00</td>\n",
              "      <td>Austin  TX</td>\n",
              "      <td>20</td>\n",
              "      <td>59</td>\n",
              "      <td>1</td>\n",
              "    </tr>\n",
              "    <tr>\n",
              "      <th>1</th>\n",
              "      <td>162009</td>\n",
              "      <td>Lightning Charging Cable</td>\n",
              "      <td>1</td>\n",
              "      <td>14.95</td>\n",
              "      <td>2019-03-28 20:59:00</td>\n",
              "      <td>942 Church St, Austin, TX 73301</td>\n",
              "      <td>3</td>\n",
              "      <td>14.95</td>\n",
              "      <td>Austin  TX</td>\n",
              "      <td>20</td>\n",
              "      <td>59</td>\n",
              "      <td>1</td>\n",
              "    </tr>\n",
              "    <tr>\n",
              "      <th>2</th>\n",
              "      <td>162009</td>\n",
              "      <td>Wired Headphones</td>\n",
              "      <td>2</td>\n",
              "      <td>11.99</td>\n",
              "      <td>2019-03-28 20:59:00</td>\n",
              "      <td>942 Church St, Austin, TX 73301</td>\n",
              "      <td>3</td>\n",
              "      <td>23.98</td>\n",
              "      <td>Austin  TX</td>\n",
              "      <td>20</td>\n",
              "      <td>59</td>\n",
              "      <td>1</td>\n",
              "    </tr>\n",
              "    <tr>\n",
              "      <th>3</th>\n",
              "      <td>162010</td>\n",
              "      <td>Bose SoundSport Headphones</td>\n",
              "      <td>1</td>\n",
              "      <td>99.99</td>\n",
              "      <td>2019-03-17 05:39:00</td>\n",
              "      <td>261 10th St, San Francisco, CA 94016</td>\n",
              "      <td>3</td>\n",
              "      <td>99.99</td>\n",
              "      <td>San Francisco  CA</td>\n",
              "      <td>5</td>\n",
              "      <td>39</td>\n",
              "      <td>1</td>\n",
              "    </tr>\n",
              "    <tr>\n",
              "      <th>4</th>\n",
              "      <td>162011</td>\n",
              "      <td>34in Ultrawide Monitor</td>\n",
              "      <td>1</td>\n",
              "      <td>379.99</td>\n",
              "      <td>2019-03-10 00:01:00</td>\n",
              "      <td>764 13th St, San Francisco, CA 94016</td>\n",
              "      <td>3</td>\n",
              "      <td>379.99</td>\n",
              "      <td>San Francisco  CA</td>\n",
              "      <td>0</td>\n",
              "      <td>1</td>\n",
              "      <td>1</td>\n",
              "    </tr>\n",
              "  </tbody>\n",
              "</table>\n",
              "</div>\n",
              "      <button class=\"colab-df-convert\" onclick=\"convertToInteractive('df-3d51363e-d4b1-45e6-badf-7b4953602e5b')\"\n",
              "              title=\"Convert this dataframe to an interactive table.\"\n",
              "              style=\"display:none;\">\n",
              "        \n",
              "  <svg xmlns=\"http://www.w3.org/2000/svg\" height=\"24px\"viewBox=\"0 0 24 24\"\n",
              "       width=\"24px\">\n",
              "    <path d=\"M0 0h24v24H0V0z\" fill=\"none\"/>\n",
              "    <path d=\"M18.56 5.44l.94 2.06.94-2.06 2.06-.94-2.06-.94-.94-2.06-.94 2.06-2.06.94zm-11 1L8.5 8.5l.94-2.06 2.06-.94-2.06-.94L8.5 2.5l-.94 2.06-2.06.94zm10 10l.94 2.06.94-2.06 2.06-.94-2.06-.94-.94-2.06-.94 2.06-2.06.94z\"/><path d=\"M17.41 7.96l-1.37-1.37c-.4-.4-.92-.59-1.43-.59-.52 0-1.04.2-1.43.59L10.3 9.45l-7.72 7.72c-.78.78-.78 2.05 0 2.83L4 21.41c.39.39.9.59 1.41.59.51 0 1.02-.2 1.41-.59l7.78-7.78 2.81-2.81c.8-.78.8-2.07 0-2.86zM5.41 20L4 18.59l7.72-7.72 1.47 1.35L5.41 20z\"/>\n",
              "  </svg>\n",
              "      </button>\n",
              "      \n",
              "  <style>\n",
              "    .colab-df-container {\n",
              "      display:flex;\n",
              "      flex-wrap:wrap;\n",
              "      gap: 12px;\n",
              "    }\n",
              "\n",
              "    .colab-df-convert {\n",
              "      background-color: #E8F0FE;\n",
              "      border: none;\n",
              "      border-radius: 50%;\n",
              "      cursor: pointer;\n",
              "      display: none;\n",
              "      fill: #1967D2;\n",
              "      height: 32px;\n",
              "      padding: 0 0 0 0;\n",
              "      width: 32px;\n",
              "    }\n",
              "\n",
              "    .colab-df-convert:hover {\n",
              "      background-color: #E2EBFA;\n",
              "      box-shadow: 0px 1px 2px rgba(60, 64, 67, 0.3), 0px 1px 3px 1px rgba(60, 64, 67, 0.15);\n",
              "      fill: #174EA6;\n",
              "    }\n",
              "\n",
              "    [theme=dark] .colab-df-convert {\n",
              "      background-color: #3B4455;\n",
              "      fill: #D2E3FC;\n",
              "    }\n",
              "\n",
              "    [theme=dark] .colab-df-convert:hover {\n",
              "      background-color: #434B5C;\n",
              "      box-shadow: 0px 1px 3px 1px rgba(0, 0, 0, 0.15);\n",
              "      filter: drop-shadow(0px 1px 2px rgba(0, 0, 0, 0.3));\n",
              "      fill: #FFFFFF;\n",
              "    }\n",
              "  </style>\n",
              "\n",
              "      <script>\n",
              "        const buttonEl =\n",
              "          document.querySelector('#df-3d51363e-d4b1-45e6-badf-7b4953602e5b button.colab-df-convert');\n",
              "        buttonEl.style.display =\n",
              "          google.colab.kernel.accessAllowed ? 'block' : 'none';\n",
              "\n",
              "        async function convertToInteractive(key) {\n",
              "          const element = document.querySelector('#df-3d51363e-d4b1-45e6-badf-7b4953602e5b');\n",
              "          const dataTable =\n",
              "            await google.colab.kernel.invokeFunction('convertToInteractive',\n",
              "                                                     [key], {});\n",
              "          if (!dataTable) return;\n",
              "\n",
              "          const docLinkHtml = 'Like what you see? Visit the ' +\n",
              "            '<a target=\"_blank\" href=https://colab.research.google.com/notebooks/data_table.ipynb>data table notebook</a>'\n",
              "            + ' to learn more about interactive tables.';\n",
              "          element.innerHTML = '';\n",
              "          dataTable['output_type'] = 'display_data';\n",
              "          await google.colab.output.renderOutput(dataTable, element);\n",
              "          const docLink = document.createElement('div');\n",
              "          docLink.innerHTML = docLinkHtml;\n",
              "          element.appendChild(docLink);\n",
              "        }\n",
              "      </script>\n",
              "    </div>\n",
              "  </div>\n",
              "  "
            ]
          },
          "metadata": {},
          "execution_count": 71
        }
      ]
    },
    {
      "cell_type": "code",
      "source": [
        "# Let's group by to find the best time to display ads\n",
        "\n",
        "hours = [hour for hour, df in data.groupby(\"Hour\")]\n",
        "\n",
        "# Using a line chart\n",
        "\n",
        "plt.plot(hours, data.groupby(\"Hour\").count())\n",
        "\n",
        "plt.xlabel(\"Hour\")\n",
        "plt.ylabel(\"Number of Order\")\n",
        "plt.xticks(hours)\n",
        "plt.grid()\n",
        "\n",
        "plt.show()\n"
      ],
      "metadata": {
        "colab": {
          "base_uri": "https://localhost:8080/",
          "height": 279
        },
        "id": "cfV1OqBr8NRe",
        "outputId": "bba4fc7a-62af-42ee-ed16-a1ec169e3c6a"
      },
      "execution_count": null,
      "outputs": [
        {
          "output_type": "display_data",
          "data": {
            "text/plain": [
              "<Figure size 432x288 with 1 Axes>"
            ],
            "image/png": "[encoded data removed]"
          },
          "metadata": {
            "needs_background": "light"
          }
        }
      ]
    },
    {
      "cell_type": "markdown",
      "source": [
        "# ❓ Question 3:  What time should we display advertisements to maximize the likelihood of purchases\n",
        "\n",
        "\n"
      ],
      "metadata": {
        "id": "PEaNoB5G-hAT"
      }
    },
    {
      "cell_type": "markdown",
      "source": [
        "✅ **Answer:** Recommendation is to display ads around 11:00 and 19:00"
      ],
      "metadata": {
        "id": "IdjcT95X6Qq4"
      }
    },
    {
      "cell_type": "code",
      "source": [
        "data.head()"
      ],
      "metadata": {
        "colab": {
          "base_uri": "https://localhost:8080/",
          "height": 389
        },
        "id": "Z4s_6Lag_FLN",
        "outputId": "258215b1-378d-4374-ba59-91472700aa2f"
      },
      "execution_count": null,
      "outputs": [
        {
          "output_type": "execute_result",
          "data": {
            "text/plain": [
              "  Order ID                     Product  Quantity Ordered  Price Each  \\\n",
              "0   162009                      iPhone                 1      700.00   \n",
              "1   162009    Lightning Charging Cable                 1       14.95   \n",
              "2   162009            Wired Headphones                 2       11.99   \n",
              "3   162010  Bose SoundSport Headphones                 1       99.99   \n",
              "4   162011      34in Ultrawide Monitor                 1      379.99   \n",
              "\n",
              "           Order Date                      Purchase Address  Month   Sales  \\\n",
              "0 2019-03-28 20:59:00       942 Church St, Austin, TX 73301      3  700.00   \n",
              "1 2019-03-28 20:59:00       942 Church St, Austin, TX 73301      3   14.95   \n",
              "2 2019-03-28 20:59:00       942 Church St, Austin, TX 73301      3   23.98   \n",
              "3 2019-03-17 05:39:00  261 10th St, San Francisco, CA 94016      3   99.99   \n",
              "4 2019-03-10 00:01:00  764 13th St, San Francisco, CA 94016      3  379.99   \n",
              "\n",
              "                 City  Hour  Minute  Count  \n",
              "0          Austin  TX    20      59      1  \n",
              "1          Austin  TX    20      59      1  \n",
              "2          Austin  TX    20      59      1  \n",
              "3   San Francisco  CA     5      39      1  \n",
              "4   San Francisco  CA     0       1      1  "
            ],
            "text/html": [
              "\n",
              "  <div id=\"df-6e44dd48-bf54-4cd5-afce-967b79dbb021\">\n",
              "    <div class=\"colab-df-container\">\n",
              "      <div>\n",
              "<style scoped>\n",
              "    .dataframe tbody tr th:only-of-type {\n",
              "        vertical-align: middle;\n",
              "    }\n",
              "\n",
              "    .dataframe tbody tr th {\n",
              "        vertical-align: top;\n",
              "    }\n",
              "\n",
              "    .dataframe thead th {\n",
              "        text-align: right;\n",
              "    }\n",
              "</style>\n",
              "<table border=\"1\" class=\"dataframe\">\n",
              "  <thead>\n",
              "    <tr style=\"text-align: right;\">\n",
              "      <th></th>\n",
              "      <th>Order ID</th>\n",
              "      <th>Product</th>\n",
              "      <th>Quantity Ordered</th>\n",
              "      <th>Price Each</th>\n",
              "      <th>Order Date</th>\n",
              "      <th>Purchase Address</th>\n",
              "      <th>Month</th>\n",
              "      <th>Sales</th>\n",
              "      <th>City</th>\n",
              "      <th>Hour</th>\n",
              "      <th>Minute</th>\n",
              "      <th>Count</th>\n",
              "    </tr>\n",
              "  </thead>\n",
              "  <tbody>\n",
              "    <tr>\n",
              "      <th>0</th>\n",
              "      <td>162009</td>\n",
              "      <td>iPhone</td>\n",
              "      <td>1</td>\n",
              "      <td>700.00</td>\n",
              "      <td>2019-03-28 20:59:00</td>\n",
              "      <td>942 Church St, Austin, TX 73301</td>\n",
              "      <td>3</td>\n",
              "      <td>700.00</td>\n",
              "      <td>Austin  TX</td>\n",
              "      <td>20</td>\n",
              "      <td>59</td>\n",
              "      <td>1</td>\n",
              "    </tr>\n",
              "    <tr>\n",
              "      <th>1</th>\n",
              "      <td>162009</td>\n",
              "      <td>Lightning Charging Cable</td>\n",
              "      <td>1</td>\n",
              "      <td>14.95</td>\n",
              "      <td>2019-03-28 20:59:00</td>\n",
              "      <td>942 Church St, Austin, TX 73301</td>\n",
              "      <td>3</td>\n",
              "      <td>14.95</td>\n",
              "      <td>Austin  TX</td>\n",
              "      <td>20</td>\n",
              "      <td>59</td>\n",
              "      <td>1</td>\n",
              "    </tr>\n",
              "    <tr>\n",
              "      <th>2</th>\n",
              "      <td>162009</td>\n",
              "      <td>Wired Headphones</td>\n",
              "      <td>2</td>\n",
              "      <td>11.99</td>\n",
              "      <td>2019-03-28 20:59:00</td>\n",
              "      <td>942 Church St, Austin, TX 73301</td>\n",
              "      <td>3</td>\n",
              "      <td>23.98</td>\n",
              "      <td>Austin  TX</td>\n",
              "      <td>20</td>\n",
              "      <td>59</td>\n",
              "      <td>1</td>\n",
              "    </tr>\n",
              "    <tr>\n",
              "      <th>3</th>\n",
              "      <td>162010</td>\n",
              "      <td>Bose SoundSport Headphones</td>\n",
              "      <td>1</td>\n",
              "      <td>99.99</td>\n",
              "      <td>2019-03-17 05:39:00</td>\n",
              "      <td>261 10th St, San Francisco, CA 94016</td>\n",
              "      <td>3</td>\n",
              "      <td>99.99</td>\n",
              "      <td>San Francisco  CA</td>\n",
              "      <td>5</td>\n",
              "      <td>39</td>\n",
              "      <td>1</td>\n",
              "    </tr>\n",
              "    <tr>\n",
              "      <th>4</th>\n",
              "      <td>162011</td>\n",
              "      <td>34in Ultrawide Monitor</td>\n",
              "      <td>1</td>\n",
              "      <td>379.99</td>\n",
              "      <td>2019-03-10 00:01:00</td>\n",
              "      <td>764 13th St, San Francisco, CA 94016</td>\n",
              "      <td>3</td>\n",
              "      <td>379.99</td>\n",
              "      <td>San Francisco  CA</td>\n",
              "      <td>0</td>\n",
              "      <td>1</td>\n",
              "      <td>1</td>\n",
              "    </tr>\n",
              "  </tbody>\n",
              "</table>\n",
              "</div>\n",
              "      <button class=\"colab-df-convert\" onclick=\"convertToInteractive('df-6e44dd48-bf54-4cd5-afce-967b79dbb021')\"\n",
              "              title=\"Convert this dataframe to an interactive table.\"\n",
              "              style=\"display:none;\">\n",
              "        \n",
              "  <svg xmlns=\"http://www.w3.org/2000/svg\" height=\"24px\"viewBox=\"0 0 24 24\"\n",
              "       width=\"24px\">\n",
              "    <path d=\"M0 0h24v24H0V0z\" fill=\"none\"/>\n",
              "    <path d=\"M18.56 5.44l.94 2.06.94-2.06 2.06-.94-2.06-.94-.94-2.06-.94 2.06-2.06.94zm-11 1L8.5 8.5l.94-2.06 2.06-.94-2.06-.94L8.5 2.5l-.94 2.06-2.06.94zm10 10l.94 2.06.94-2.06 2.06-.94-2.06-.94-.94-2.06-.94 2.06-2.06.94z\"/><path d=\"M17.41 7.96l-1.37-1.37c-.4-.4-.92-.59-1.43-.59-.52 0-1.04.2-1.43.59L10.3 9.45l-7.72 7.72c-.78.78-.78 2.05 0 2.83L4 21.41c.39.39.9.59 1.41.59.51 0 1.02-.2 1.41-.59l7.78-7.78 2.81-2.81c.8-.78.8-2.07 0-2.86zM5.41 20L4 18.59l7.72-7.72 1.47 1.35L5.41 20z\"/>\n",
              "  </svg>\n",
              "      </button>\n",
              "      \n",
              "  <style>\n",
              "    .colab-df-container {\n",
              "      display:flex;\n",
              "      flex-wrap:wrap;\n",
              "      gap: 12px;\n",
              "    }\n",
              "\n",
              "    .colab-df-convert {\n",
              "      background-color: #E8F0FE;\n",
              "      border: none;\n",
              "      border-radius: 50%;\n",
              "      cursor: pointer;\n",
              "      display: none;\n",
              "      fill: #1967D2;\n",
              "      height: 32px;\n",
              "      padding: 0 0 0 0;\n",
              "      width: 32px;\n",
              "    }\n",
              "\n",
              "    .colab-df-convert:hover {\n",
              "      background-color: #E2EBFA;\n",
              "      box-shadow: 0px 1px 2px rgba(60, 64, 67, 0.3), 0px 1px 3px 1px rgba(60, 64, 67, 0.15);\n",
              "      fill: #174EA6;\n",
              "    }\n",
              "\n",
              "    [theme=dark] .colab-df-convert {\n",
              "      background-color: #3B4455;\n",
              "      fill: #D2E3FC;\n",
              "    }\n",
              "\n",
              "    [theme=dark] .colab-df-convert:hover {\n",
              "      background-color: #434B5C;\n",
              "      box-shadow: 0px 1px 3px 1px rgba(0, 0, 0, 0.15);\n",
              "      filter: drop-shadow(0px 1px 2px rgba(0, 0, 0, 0.3));\n",
              "      fill: #FFFFFF;\n",
              "    }\n",
              "  </style>\n",
              "\n",
              "      <script>\n",
              "        const buttonEl =\n",
              "          document.querySelector('#df-6e44dd48-bf54-4cd5-afce-967b79dbb021 button.colab-df-convert');\n",
              "        buttonEl.style.display =\n",
              "          google.colab.kernel.accessAllowed ? 'block' : 'none';\n",
              "\n",
              "        async function convertToInteractive(key) {\n",
              "          const element = document.querySelector('#df-6e44dd48-bf54-4cd5-afce-967b79dbb021');\n",
              "          const dataTable =\n",
              "            await google.colab.kernel.invokeFunction('convertToInteractive',\n",
              "                                                     [key], {});\n",
              "          if (!dataTable) return;\n",
              "\n",
              "          const docLinkHtml = 'Like what you see? Visit the ' +\n",
              "            '<a target=\"_blank\" href=https://colab.research.google.com/notebooks/data_table.ipynb>data table notebook</a>'\n",
              "            + ' to learn more about interactive tables.';\n",
              "          element.innerHTML = '';\n",
              "          dataTable['output_type'] = 'display_data';\n",
              "          await google.colab.output.renderOutput(dataTable, element);\n",
              "          const docLink = document.createElement('div');\n",
              "          docLink.innerHTML = docLinkHtml;\n",
              "          element.appendChild(docLink);\n",
              "        }\n",
              "      </script>\n",
              "    </div>\n",
              "  </div>\n",
              "  "
            ]
          },
          "metadata": {},
          "execution_count": 73
        }
      ]
    },
    {
      "cell_type": "code",
      "source": [
        "# Search for rows that have duplicate Order ID values\n",
        "\n",
        "df = data[data['Order ID'].duplicated(keep=False)]\n",
        "df['Grouped'] = df.groupby('Order ID')['Product'].transform(lambda x:','.join(x))\n",
        "\n",
        "# Now, drop off the duplicated rows \n",
        "df = df[['Order ID','Grouped' ]].drop_duplicates()\n",
        "df.head()"
      ],
      "metadata": {
        "colab": {
          "base_uri": "https://localhost:8080/",
          "height": 330
        },
        "id": "4l3CbuFe_E9s",
        "outputId": "5584d26c-2208-41df-a5e6-39212f0cf7e8"
      },
      "execution_count": null,
      "outputs": [
        {
          "output_type": "stream",
          "name": "stderr",
          "text": [
            "/usr/local/lib/python3.7/dist-packages/ipykernel_launcher.py:4: SettingWithCopyWarning: \n",
            "A value is trying to be set on a copy of a slice from a DataFrame.\n",
            "Try using .loc[row_indexer,col_indexer] = value instead\n",
            "\n",
            "See the caveats in the documentation: https://pandas.pydata.org/pandas-docs/stable/user_guide/indexing.html#returning-a-view-versus-a-copy\n",
            "  after removing the cwd from sys.path.\n"
          ]
        },
        {
          "output_type": "execute_result",
          "data": {
            "text/plain": [
              "   Order ID                                           Grouped\n",
              "0    162009  iPhone,Lightning Charging Cable,Wired Headphones\n",
              "30   162037                   iPhone,Lightning Charging Cable\n",
              "60   162066        AA Batteries (4-pack),USB-C Charging Cable\n",
              "66   162071              Vareebadd Phone,USB-C Charging Cable\n",
              "78   162082                  Vareebadd Phone,Wired Headphones"
            ],
            "text/html": [
              "\n",
              "  <div id=\"df-76874a7e-9800-4ef2-864a-33ef16046d39\">\n",
              "    <div class=\"colab-df-container\">\n",
              "      <div>\n",
              "<style scoped>\n",
              "    .dataframe tbody tr th:only-of-type {\n",
              "        vertical-align: middle;\n",
              "    }\n",
              "\n",
              "    .dataframe tbody tr th {\n",
              "        vertical-align: top;\n",
              "    }\n",
              "\n",
              "    .dataframe thead th {\n",
              "        text-align: right;\n",
              "    }\n",
              "</style>\n",
              "<table border=\"1\" class=\"dataframe\">\n",
              "  <thead>\n",
              "    <tr style=\"text-align: right;\">\n",
              "      <th></th>\n",
              "      <th>Order ID</th>\n",
              "      <th>Grouped</th>\n",
              "    </tr>\n",
              "  </thead>\n",
              "  <tbody>\n",
              "    <tr>\n",
              "      <th>0</th>\n",
              "      <td>162009</td>\n",
              "      <td>iPhone,Lightning Charging Cable,Wired Headphones</td>\n",
              "    </tr>\n",
              "    <tr>\n",
              "      <th>30</th>\n",
              "      <td>162037</td>\n",
              "      <td>iPhone,Lightning Charging Cable</td>\n",
              "    </tr>\n",
              "    <tr>\n",
              "      <th>60</th>\n",
              "      <td>162066</td>\n",
              "      <td>AA Batteries (4-pack),USB-C Charging Cable</td>\n",
              "    </tr>\n",
              "    <tr>\n",
              "      <th>66</th>\n",
              "      <td>162071</td>\n",
              "      <td>Vareebadd Phone,USB-C Charging Cable</td>\n",
              "    </tr>\n",
              "    <tr>\n",
              "      <th>78</th>\n",
              "      <td>162082</td>\n",
              "      <td>Vareebadd Phone,Wired Headphones</td>\n",
              "    </tr>\n",
              "  </tbody>\n",
              "</table>\n",
              "</div>\n",
              "      <button class=\"colab-df-convert\" onclick=\"convertToInteractive('df-76874a7e-9800-4ef2-864a-33ef16046d39')\"\n",
              "              title=\"Convert this dataframe to an interactive table.\"\n",
              "              style=\"display:none;\">\n",
              "        \n",
              "  <svg xmlns=\"http://www.w3.org/2000/svg\" height=\"24px\"viewBox=\"0 0 24 24\"\n",
              "       width=\"24px\">\n",
              "    <path d=\"M0 0h24v24H0V0z\" fill=\"none\"/>\n",
              "    <path d=\"M18.56 5.44l.94 2.06.94-2.06 2.06-.94-2.06-.94-.94-2.06-.94 2.06-2.06.94zm-11 1L8.5 8.5l.94-2.06 2.06-.94-2.06-.94L8.5 2.5l-.94 2.06-2.06.94zm10 10l.94 2.06.94-2.06 2.06-.94-2.06-.94-.94-2.06-.94 2.06-2.06.94z\"/><path d=\"M17.41 7.96l-1.37-1.37c-.4-.4-.92-.59-1.43-.59-.52 0-1.04.2-1.43.59L10.3 9.45l-7.72 7.72c-.78.78-.78 2.05 0 2.83L4 21.41c.39.39.9.59 1.41.59.51 0 1.02-.2 1.41-.59l7.78-7.78 2.81-2.81c.8-.78.8-2.07 0-2.86zM5.41 20L4 18.59l7.72-7.72 1.47 1.35L5.41 20z\"/>\n",
              "  </svg>\n",
              "      </button>\n",
              "      \n",
              "  <style>\n",
              "    .colab-df-container {\n",
              "      display:flex;\n",
              "      flex-wrap:wrap;\n",
              "      gap: 12px;\n",
              "    }\n",
              "\n",
              "    .colab-df-convert {\n",
              "      background-color: #E8F0FE;\n",
              "      border: none;\n",
              "      border-radius: 50%;\n",
              "      cursor: pointer;\n",
              "      display: none;\n",
              "      fill: #1967D2;\n",
              "      height: 32px;\n",
              "      padding: 0 0 0 0;\n",
              "      width: 32px;\n",
              "    }\n",
              "\n",
              "    .colab-df-convert:hover {\n",
              "      background-color: #E2EBFA;\n",
              "      box-shadow: 0px 1px 2px rgba(60, 64, 67, 0.3), 0px 1px 3px 1px rgba(60, 64, 67, 0.15);\n",
              "      fill: #174EA6;\n",
              "    }\n",
              "\n",
              "    [theme=dark] .colab-df-convert {\n",
              "      background-color: #3B4455;\n",
              "      fill: #D2E3FC;\n",
              "    }\n",
              "\n",
              "    [theme=dark] .colab-df-convert:hover {\n",
              "      background-color: #434B5C;\n",
              "      box-shadow: 0px 1px 3px 1px rgba(0, 0, 0, 0.15);\n",
              "      filter: drop-shadow(0px 1px 2px rgba(0, 0, 0, 0.3));\n",
              "      fill: #FFFFFF;\n",
              "    }\n",
              "  </style>\n",
              "\n",
              "      <script>\n",
              "        const buttonEl =\n",
              "          document.querySelector('#df-76874a7e-9800-4ef2-864a-33ef16046d39 button.colab-df-convert');\n",
              "        buttonEl.style.display =\n",
              "          google.colab.kernel.accessAllowed ? 'block' : 'none';\n",
              "\n",
              "        async function convertToInteractive(key) {\n",
              "          const element = document.querySelector('#df-76874a7e-9800-4ef2-864a-33ef16046d39');\n",
              "          const dataTable =\n",
              "            await google.colab.kernel.invokeFunction('convertToInteractive',\n",
              "                                                     [key], {});\n",
              "          if (!dataTable) return;\n",
              "\n",
              "          const docLinkHtml = 'Like what you see? Visit the ' +\n",
              "            '<a target=\"_blank\" href=https://colab.research.google.com/notebooks/data_table.ipynb>data table notebook</a>'\n",
              "            + ' to learn more about interactive tables.';\n",
              "          element.innerHTML = '';\n",
              "          dataTable['output_type'] = 'display_data';\n",
              "          await google.colab.output.renderOutput(dataTable, element);\n",
              "          const docLink = document.createElement('div');\n",
              "          docLink.innerHTML = docLinkHtml;\n",
              "          element.appendChild(docLink);\n",
              "        }\n",
              "      </script>\n",
              "    </div>\n",
              "  </div>\n",
              "  "
            ]
          },
          "metadata": {},
          "execution_count": 74
        }
      ]
    },
    {
      "cell_type": "code",
      "source": [
        "# Now we need to count these pairs\n",
        "from itertools import combinations\n",
        "from collections import Counter\n",
        "\n",
        "count = Counter()\n",
        "\n",
        "for row in df['Grouped']:\n",
        "  row_list = row.split(',')\n",
        "  count.update(Counter(combinations(row_list, 2)))\n",
        "\n",
        "for key, value in count.most_common(10):\n",
        "  print(key, value)"
      ],
      "metadata": {
        "colab": {
          "base_uri": "https://localhost:8080/"
        },
        "id": "zaPMO5EaCymM",
        "outputId": "aac40b10-1bab-4f60-fe16-1659293b923b"
      },
      "execution_count": null,
      "outputs": [
        {
          "output_type": "stream",
          "name": "stdout",
          "text": [
            "('iPhone', 'Lightning Charging Cable') 1005\n",
            "('Google Phone', 'USB-C Charging Cable') 987\n",
            "('iPhone', 'Wired Headphones') 447\n",
            "('Google Phone', 'Wired Headphones') 414\n",
            "('Vareebadd Phone', 'USB-C Charging Cable') 361\n",
            "('iPhone', 'Apple Airpods Headphones') 360\n",
            "('Google Phone', 'Bose SoundSport Headphones') 220\n",
            "('USB-C Charging Cable', 'Wired Headphones') 160\n",
            "('Vareebadd Phone', 'Wired Headphones') 143\n",
            "('Lightning Charging Cable', 'Wired Headphones') 92\n"
          ]
        }
      ]
    },
    {
      "cell_type": "markdown",
      "source": [
        "# ❓ Question 4: What products are most sold together?\n"
      ],
      "metadata": {
        "id": "MwmvdPUL-dbu"
      }
    },
    {
      "cell_type": "markdown",
      "source": [
        "✅ **Answer:** **iPhone** and **Lightning Charging Cable** for **1005** Orders\n",
        "\n",
        "\n",
        "\n",
        "\n"
      ],
      "metadata": {
        "id": "CXaCqcr7_DYV"
      }
    },
    {
      "cell_type": "markdown",
      "source": [
        "# ❓ Question 4: What product sold the most? why do you think it sold the most?"
      ],
      "metadata": {
        "id": "vvZYLcuJyToO"
      }
    },
    {
      "cell_type": "code",
      "source": [
        "product_group = data.groupby('Product')\n",
        "quantity_ordered = product_group.sum()['Quantity Ordered']\n",
        "\n",
        "products = [product for product, df in product_group]\n",
        "\n",
        "plt.bar(products, quantity_ordered)\n",
        "\n",
        "plt.xticks(rotation='vertical')\n",
        "\n",
        "plt.xlabel('Products')\n",
        "plt.ylabel('Quantity Ordered')"
      ],
      "metadata": {
        "colab": {
          "base_uri": "https://localhost:8080/",
          "height": 437
        },
        "id": "tE9WdaOiypoE",
        "outputId": "4a705a1f-b745-43ec-e0ab-c5592c0bb15a"
      },
      "execution_count": null,
      "outputs": [
        {
          "output_type": "execute_result",
          "data": {
            "text/plain": [
              "Text(0, 0.5, 'Quantity Ordered')"
            ]
          },
          "metadata": {},
          "execution_count": 76
        },
        {
          "output_type": "display_data",
          "data": {
            "text/plain": [
              "<Figure size 432x288 with 1 Axes>"
            ],
            "image/png": "[encoded data removed]"
          },
          "metadata": {
            "needs_background": "light"
          }
        }
      ]
    },
    {
      "cell_type": "markdown",
      "source": [
        "✅ **Answer:** AAA Batteries (4-pack), may be because they are cheap"
      ],
      "metadata": {
        "id": "dtKMnL5ny8uD"
      }
    },
    {
      "cell_type": "markdown",
      "source": [
        "### Overlay this graph with the products prices"
      ],
      "metadata": {
        "id": "hU-ABSC31fMR"
      }
    },
    {
      "cell_type": "code",
      "source": [
        "prices = data.groupby('Product').mean()['Price Each']\n",
        "\n",
        "fig, ax1 = plt.subplots()\n",
        "\n",
        "ax2 = ax1.twinx()\n",
        "ax1.bar(products, quantity_ordered)\n",
        "ax1.set_xticklabels(prices, rotation='vertical')\n",
        "ax2.plot(products, prices,'g-')\n",
        "\n",
        "ax1.set_xlabel('Product Name')\n",
        "ax1.set_ylabel(\"Quantity Ordered\", color='b')\n",
        "ax2.set_ylabel('Price', color='g')"
      ],
      "metadata": {
        "colab": {
          "base_uri": "https://localhost:8080/",
          "height": 437
        },
        "id": "N0smcl6Z0rfP",
        "outputId": "a2975005-bb53-4c19-a9dc-0ec4d59e9782"
      },
      "execution_count": null,
      "outputs": [
        {
          "output_type": "execute_result",
          "data": {
            "text/plain": [
              "Text(0, 0.5, 'Price')"
            ]
          },
          "metadata": {},
          "execution_count": 78
        },
        {
          "output_type": "display_data",
          "data": {
            "text/plain": [
              "<Figure size 432x288 with 2 Axes>"
            ],
            "image/png": "[encoded data removed]"
          },
          "metadata": {
            "needs_background": "light"
          }
        }
      ]
    }
  ]
}